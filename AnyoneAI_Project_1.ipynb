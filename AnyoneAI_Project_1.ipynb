{
  "cells": [
    {
      "cell_type": "markdown",
      "metadata": {
        "id": "ae010f33-c6b5-475d-acd5-d37df011a5bd"
      },
      "source": [
        "# AnyoneAI - Project I\n",
        "\n",
        "# An analysis of NBA players in the 2021/2022 season"
      ],
      "id": "ae010f33-c6b5-475d-acd5-d37df011a5bd"
    },
    {
      "cell_type": "markdown",
      "metadata": {
        "id": "feb5643a-e69d-45d5-8143-67e7cac8db62"
      },
      "source": [
        "Hi! this is the first of several projects we're going to be working on during this course. \n",
        "You will be expected to finish this on your own, but you can use the available channels on Discord to ask questions and help others. Please read the entire notebook before starting, this will give you a better idea of what you need to accomplish.\n",
        "\n",
        "This project will rely heavily in the use of API as data sources. Contrary to most machine learning challenges and competitions, working in the industry usually requires the ML Developer to work with multiple teams and use heterogeneous sources of information to get the necessary data to solve a particular problem. Access to data is often provided through application programming interfaces (APIs), whether internal or external to the organization. It is very important to understand how to interact with APIs to collect data in our day to day work.\n",
        "\n",
        "You might be wondering: why basketball? The main reason is availability of data.\n",
        "\n",
        "The sport is played at a fast pace, with hundreds of plays in each single game, thousands of games in a season, and with a relatively small amount of on-court players, which gives them a lot of interactions with the ball, which in turn provides an oportunity to collect a great amount of data about each player performance."
      ],
      "id": "feb5643a-e69d-45d5-8143-67e7cac8db62"
    },
    {
      "cell_type": "markdown",
      "metadata": {
        "id": "01778870-2619-4f79-a9a9-39e5d368cc18"
      },
      "source": [
        "These are the objectives of the project:\n",
        "- Understanding how to query an API to create a dataset with Python and Pandas\n",
        "- Learning how to cleanup a dataset and generate new fields from calculated data\n",
        "- Storing the created dataset in a serialized manner\n",
        "- Generating statistics about the data\n",
        "- Visualizing data"
      ],
      "id": "01778870-2619-4f79-a9a9-39e5d368cc18"
    },
    {
      "cell_type": "markdown",
      "metadata": {
        "id": "67f24c7c-0f5e-4e1e-afe9-d7a1a99665f5"
      },
      "source": [
        "## Introduction"
      ],
      "id": "67f24c7c-0f5e-4e1e-afe9-d7a1a99665f5"
    },
    {
      "cell_type": "markdown",
      "metadata": {
        "id": "efb6e67d-55c9-4af3-9f9b-ca503be01355"
      },
      "source": [
        "### A brief description of basketball and the NBA"
      ],
      "id": "efb6e67d-55c9-4af3-9f9b-ca503be01355"
    },
    {
      "cell_type": "markdown",
      "metadata": {
        "id": "7d6da412-3b11-4541-9165-b4eea8570c3e"
      },
      "source": [
        "The National Basketball Association is the main basketball league in the United States of America. It currently features 30 teams from different cities, divided in 2 conferences (East and West) of 15 teams. Each team plays a total of 82 games during the regular season. After that, the 8 teams with better records from each conference are seeded in a playoff format, with the winner of each conference playing the finals to determine the eventual champion. NBA seasons usually play out between october of one year, to june of the next year, so for example the current season being played is called the 2021/2022 season.\n",
        "\n",
        "As in most leagues in the world, the game is played 5 vs 5 players, with as many as 9 reserve players that can rotate with the starters as many times as the team wants. Games are played to 48 minutes, so the total amount of minutes of combined play time for any team in a single game with no added time is 240 minutes. If the score is tied at the end of the 48 minutes, 5 minutes of extra time are played, this continues until a winner is decided.\n",
        "\n",
        "Even though they can play multiple positions, players are usually classified according to the following positions:\n",
        "\n",
        "- Guards\n",
        "    - Point Guards\n",
        "    - Shooting Guards\n",
        "- Forwards\n",
        "    - Small Forwards\n",
        "    - Power Forwards\n",
        "- Centers\n",
        "\n",
        "We will mainly focus on the three main positions: Guards/Forwards/Centers"
      ],
      "id": "7d6da412-3b11-4541-9165-b4eea8570c3e"
    },
    {
      "cell_type": "markdown",
      "metadata": {
        "id": "6cfdce7d-d6c4-4fb4-8906-4fbca324ab45"
      },
      "source": [
        "### The dataset"
      ],
      "id": "6cfdce7d-d6c4-4fb4-8906-4fbca324ab45"
    },
    {
      "cell_type": "markdown",
      "metadata": {
        "id": "06cbbd6b-4588-4991-890d-c0cdc4240e0a"
      },
      "source": [
        "You'll be in charge of creating our dataset. We want to create a single pandas dataframe with information about all active players in the current NBA season. \n",
        "The dataset needs to have the following structure:\n",
        "\n",
        "- Personal Information\n",
        "    - player_id (int) (INDEX) \n",
        "    - player_name (str)\n",
        "    - team_name (str)\n",
        "    - position (str)\n",
        "    - height (int) (in centimeters) \n",
        "    - weight (float) (in kilograms)\n",
        "    - country of origin (str)\n",
        "    - date_of_birth (datetime)\n",
        "    - age (str) (years and months)\n",
        "    - years_of_experience (int) (years since entering the league)\n",
        "    - Draft position (int)\n",
        "- Player career statistics\n",
        "    - games played (int)\n",
        "    - minutes per game (float)\n",
        "    - points per game (float)\n",
        "    - rebounds per game (float)\n",
        "    - assists per game (float)\n",
        "    - steals per game (float)\n",
        "    - blocks per game (float)\n",
        "- Misc\n",
        "    - salary in dollars (int) (contract value for this season only)\n",
        "    - next_game_date (datetime)"
      ],
      "id": "06cbbd6b-4588-4991-890d-c0cdc4240e0a"
    },
    {
      "cell_type": "markdown",
      "metadata": {
        "id": "a8549d4d-6773-4eaf-939e-7dd96b16d656"
      },
      "source": [
        "Here is a sample of how the final result should look like:"
      ],
      "id": "a8549d4d-6773-4eaf-939e-7dd96b16d656"
    },
    {
      "cell_type": "code",
      "execution_count": null,
      "metadata": {
        "colab": {
          "base_uri": "https://localhost:8080/",
          "height": 320
        },
        "id": "4d6d7c9f-2030-42d0-87ac-017dbe6a7d19",
        "outputId": "edd455b4-2591-4735-a9f3-e0814ffd289b"
      },
      "outputs": [
        {
          "output_type": "execute_result",
          "data": {
            "text/plain": [
              "             PLAYER_NAME      TEAM_NAME POSITION  HEIGHT  WEIGHT  \\\n",
              "200765       Rajon Rondo      Cavaliers    Guard     185      82   \n",
              "203107  Tomas Satoransky        Wizards    Guard     201      95   \n",
              "204060        Joe Ingles  Trail Blazers  Forward     203     100   \n",
              "\n",
              "               COUNTRY  BIRTHDATE  SEASON_EXP DRAFT_NUMBER   GP   MIN  PTS  \\\n",
              "200765             USA 1986-02-22          15           21  957  29.9  9.8   \n",
              "203107  Czech Republic 1991-10-30           5           32  388  22.2  6.9   \n",
              "204060       Australia 1987-10-02           7    Undrafted  590  25.7  8.6   \n",
              "\n",
              "        REB  AST  STL  BLK  GAME_DATE    SALARY                          AGE  \n",
              "200765  4.5  7.9  1.6  0.1 2022-04-10   2641691  36 years, 1 months, 19 days  \n",
              "203107  2.9  4.1  0.8  0.2 2022-04-10  10468119  30 years, 5 months, 11 days  \n",
              "204060  3.2  3.8  0.9  0.2 2022-04-10  14000000   34 years, 6 months, 8 days  "
            ],
            "text/html": [
              "<div>\n",
              "<style scoped>\n",
              "    .dataframe tbody tr th:only-of-type {\n",
              "        vertical-align: middle;\n",
              "    }\n",
              "\n",
              "    .dataframe tbody tr th {\n",
              "        vertical-align: top;\n",
              "    }\n",
              "\n",
              "    .dataframe thead th {\n",
              "        text-align: right;\n",
              "    }\n",
              "</style>\n",
              "<table border=\"1\" class=\"dataframe\">\n",
              "  <thead>\n",
              "    <tr style=\"text-align: right;\">\n",
              "      <th></th>\n",
              "      <th>PLAYER_NAME</th>\n",
              "      <th>TEAM_NAME</th>\n",
              "      <th>POSITION</th>\n",
              "      <th>HEIGHT</th>\n",
              "      <th>WEIGHT</th>\n",
              "      <th>COUNTRY</th>\n",
              "      <th>BIRTHDATE</th>\n",
              "      <th>SEASON_EXP</th>\n",
              "      <th>DRAFT_NUMBER</th>\n",
              "      <th>GP</th>\n",
              "      <th>MIN</th>\n",
              "      <th>PTS</th>\n",
              "      <th>REB</th>\n",
              "      <th>AST</th>\n",
              "      <th>STL</th>\n",
              "      <th>BLK</th>\n",
              "      <th>GAME_DATE</th>\n",
              "      <th>SALARY</th>\n",
              "      <th>AGE</th>\n",
              "    </tr>\n",
              "  </thead>\n",
              "  <tbody>\n",
              "    <tr>\n",
              "      <th>200765</th>\n",
              "      <td>Rajon Rondo</td>\n",
              "      <td>Cavaliers</td>\n",
              "      <td>Guard</td>\n",
              "      <td>185</td>\n",
              "      <td>82</td>\n",
              "      <td>USA</td>\n",
              "      <td>1986-02-22</td>\n",
              "      <td>15</td>\n",
              "      <td>21</td>\n",
              "      <td>957</td>\n",
              "      <td>29.9</td>\n",
              "      <td>9.8</td>\n",
              "      <td>4.5</td>\n",
              "      <td>7.9</td>\n",
              "      <td>1.6</td>\n",
              "      <td>0.1</td>\n",
              "      <td>2022-04-10</td>\n",
              "      <td>2641691</td>\n",
              "      <td>36 years, 1 months, 19 days</td>\n",
              "    </tr>\n",
              "    <tr>\n",
              "      <th>203107</th>\n",
              "      <td>Tomas Satoransky</td>\n",
              "      <td>Wizards</td>\n",
              "      <td>Guard</td>\n",
              "      <td>201</td>\n",
              "      <td>95</td>\n",
              "      <td>Czech Republic</td>\n",
              "      <td>1991-10-30</td>\n",
              "      <td>5</td>\n",
              "      <td>32</td>\n",
              "      <td>388</td>\n",
              "      <td>22.2</td>\n",
              "      <td>6.9</td>\n",
              "      <td>2.9</td>\n",
              "      <td>4.1</td>\n",
              "      <td>0.8</td>\n",
              "      <td>0.2</td>\n",
              "      <td>2022-04-10</td>\n",
              "      <td>10468119</td>\n",
              "      <td>30 years, 5 months, 11 days</td>\n",
              "    </tr>\n",
              "    <tr>\n",
              "      <th>204060</th>\n",
              "      <td>Joe Ingles</td>\n",
              "      <td>Trail Blazers</td>\n",
              "      <td>Forward</td>\n",
              "      <td>203</td>\n",
              "      <td>100</td>\n",
              "      <td>Australia</td>\n",
              "      <td>1987-10-02</td>\n",
              "      <td>7</td>\n",
              "      <td>Undrafted</td>\n",
              "      <td>590</td>\n",
              "      <td>25.7</td>\n",
              "      <td>8.6</td>\n",
              "      <td>3.2</td>\n",
              "      <td>3.8</td>\n",
              "      <td>0.9</td>\n",
              "      <td>0.2</td>\n",
              "      <td>2022-04-10</td>\n",
              "      <td>14000000</td>\n",
              "      <td>34 years, 6 months, 8 days</td>\n",
              "    </tr>\n",
              "  </tbody>\n",
              "</table>\n",
              "</div>"
            ]
          },
          "metadata": {},
          "execution_count": 1
        }
      ],
      "source": [
        "import pandas as pd\n",
        "\n",
        "sample_dict = {\n",
        "    'PLAYER_NAME': {200765: 'Rajon Rondo',  203107: 'Tomas Satoransky',  204060: 'Joe Ingles'},\n",
        "    'TEAM_NAME': {200765: 'Cavaliers', 203107: 'Wizards', 204060: 'Trail Blazers'},\n",
        "    'POSITION': {200765: 'Guard', 203107: 'Guard', 204060: 'Forward'},\n",
        "    'HEIGHT': {200765: 185, 203107: 201, 204060: 203},\n",
        "    'WEIGHT': {200765: 82, 203107: 95, 204060: 100},\n",
        "    'COUNTRY': {200765: 'USA', 203107: 'Czech Republic', 204060: 'Australia'},\n",
        "    'BIRTHDATE': {200765: pd.Timestamp('1986-02-22 00:00:00'), 203107: pd.Timestamp('1991-10-30 00:00:00'), 204060: pd.Timestamp('1987-10-02 00:00:00')},\n",
        "    'SEASON_EXP': {200765: 15, 203107: 5, 204060: 7},\n",
        "    'DRAFT_NUMBER': {200765: '21', 203107: '32', 204060: 'Undrafted'},\n",
        "    'GP': {200765: 957, 203107: 388, 204060: 590},\n",
        "    'MIN': {200765: 29.9, 203107: 22.2, 204060: 25.7},\n",
        "    'PTS': {200765: 9.8, 203107: 6.9, 204060: 8.6},\n",
        "    'REB': {200765: 4.5, 203107: 2.9, 204060: 3.2},\n",
        "    'AST': {200765: 7.9, 203107: 4.1, 204060: 3.8},\n",
        "    'STL': {200765: 1.6, 203107: 0.8, 204060: 0.9},\n",
        "    'BLK': {200765: 0.1, 203107: 0.2, 204060: 0.2},\n",
        "    'GAME_DATE': {200765: pd.Timestamp('2022-04-10 00:00:00'), 203107: pd.Timestamp('2022-04-10 00:00:00'), 204060: pd.Timestamp('2022-04-10 00:00:00')},\n",
        "    'SALARY': {200765: 2641691, 203107: 10468119, 204060: 14000000},\n",
        "    'AGE': {200765: '36 years, 1 months, 19 days', 203107: '30 years, 5 months, 11 days', 204060: '34 years, 6 months, 8 days'}\n",
        "}\n",
        "pd.DataFrame(sample_dict)"
      ],
      "id": "4d6d7c9f-2030-42d0-87ac-017dbe6a7d19"
    },
    {
      "cell_type": "markdown",
      "metadata": {
        "id": "2f6e860b-d366-4198-b74e-805fcc7bce6c"
      },
      "source": [
        "## Collecting information for building our dataset"
      ],
      "id": "2f6e860b-d366-4198-b74e-805fcc7bce6c"
    },
    {
      "cell_type": "markdown",
      "metadata": {
        "id": "54f9b97d-32f9-4ee1-830c-724d28b85833"
      },
      "source": [
        "In this section, we're only going to work on collecting the necessary raw data to build the required dataset. Don't worry about finishing everything here, we'll generate the appropiate fields and merge the data into a single dataframe in the next section.\n",
        "\n",
        "To get the information, you can use any public and free API you can find, but you have to provide the code that gets the information here. We recommend using this API:\n",
        " \n",
        "- https://github.com/swar/nba_api\n",
        "\n",
        "    This is a Python library that can be used to obtain data from stats.nba.com, it provides a set of methods that abstracts you from making the http calls, but directly makes calls to nba stats page and parses the results. [Here](https://github.com/swar/nba_api/blob/master/docs/examples/Basics.ipynb) are a couple of examples on how to use it.\n",
        "    \n",
        "\n",
        "A few notes on data collection:\n",
        "\n",
        "- Start simple. Try to get all the required information for 1 player, read the APIs documentation carefuly, then think about how to use them to collect all players data. \n",
        "\n",
        "- Please bear in mind that the most public APIs have some kind of rate limit, so you have to be careful about iterating on data and making lots of requests in a short amount of time (a 1 second delay between calls to the api should be enough). Once you've collected what you needed, save it to file in order to retrieve it later without calling the API again.\n",
        "\n",
        "- A key consideration: we only want data about players that have played in the current season, so make sure to filter those out before collecting the rest of the information.\n",
        "\n",
        "- There is at least one piece of information you're not going to find in both of those APIs: the player contract information. Again you can decide to use any source, but we recommend using information provided [here](https://www.basketball-reference.com/contracts/players.html), as it lets you export the data as a csv.  "
      ],
      "id": "54f9b97d-32f9-4ee1-830c-724d28b85833"
    },
    {
      "cell_type": "markdown",
      "metadata": {
        "id": "ae032907-b133-4cf8-8026-85f853755e46"
      },
      "source": [
        "1- Create a function to find all ACTIVE players, meaning players that are listed with a team in the 2021/2022 season. For now you only need the player id, name, and team. Save the dataframe to a csv named \"nba_current_players_list.csv\". The function should return the dataframe."
      ],
      "id": "ae032907-b133-4cf8-8026-85f853755e46"
    },
    {
      "cell_type": "markdown",
      "metadata": {
        "id": "ab2a86ef-3be9-42e2-a17d-111924c8ca2a"
      },
      "source": [
        "Hint: you should find an API method that can give you a list of players in just one call, this way we can filter those players we're interested in, and later will make calls for each specific player."
      ],
      "id": "ab2a86ef-3be9-42e2-a17d-111924c8ca2a"
    },
    {
      "cell_type": "markdown",
      "metadata": {
        "id": "b5e2138b-0640-4420-9ca3-dbbe4033620c"
      },
      "source": [
        "Consider dropping: \n",
        "- All players with TEAM_ID == 0\n",
        "- All players with GAMES_PLAYED_FLAG == N\n",
        "- Player with id 1630597 (This guy is a problem ;))"
      ],
      "id": "b5e2138b-0640-4420-9ca3-dbbe4033620c"
    },
    {
      "cell_type": "code",
      "execution_count": null,
      "metadata": {
        "colab": {
          "base_uri": "https://localhost:8080/"
        },
        "id": "2ce48cb6-3f35-4f62-a652-edc84f171010",
        "outputId": "be27eca9-325a-429a-fb33-e8e59a1092fa"
      },
      "outputs": [
        {
          "output_type": "stream",
          "name": "stdout",
          "text": [
            "Collecting nba_api\n",
            "  Downloading nba_api-1.1.11.tar.gz (125 kB)\n",
            "\u001b[?25l\r\u001b[K     |██▋                             | 10 kB 23.6 MB/s eta 0:00:01\r\u001b[K     |█████▏                          | 20 kB 12.3 MB/s eta 0:00:01\r\u001b[K     |███████▉                        | 30 kB 8.6 MB/s eta 0:00:01\r\u001b[K     |██████████▍                     | 40 kB 3.6 MB/s eta 0:00:01\r\u001b[K     |█████████████                   | 51 kB 3.6 MB/s eta 0:00:01\r\u001b[K     |███████████████▋                | 61 kB 4.3 MB/s eta 0:00:01\r\u001b[K     |██████████████████▎             | 71 kB 4.5 MB/s eta 0:00:01\r\u001b[K     |████████████████████▉           | 81 kB 4.5 MB/s eta 0:00:01\r\u001b[K     |███████████████████████▌        | 92 kB 5.0 MB/s eta 0:00:01\r\u001b[K     |██████████████████████████      | 102 kB 4.2 MB/s eta 0:00:01\r\u001b[K     |████████████████████████████▊   | 112 kB 4.2 MB/s eta 0:00:01\r\u001b[K     |███████████████████████████████▎| 122 kB 4.2 MB/s eta 0:00:01\r\u001b[K     |████████████████████████████████| 125 kB 4.2 MB/s \n",
            "\u001b[?25hRequirement already satisfied: requests in /usr/local/lib/python3.7/dist-packages (from nba_api) (2.23.0)\n",
            "Requirement already satisfied: chardet<4,>=3.0.2 in /usr/local/lib/python3.7/dist-packages (from requests->nba_api) (3.0.4)\n",
            "Requirement already satisfied: certifi>=2017.4.17 in /usr/local/lib/python3.7/dist-packages (from requests->nba_api) (2021.10.8)\n",
            "Requirement already satisfied: urllib3!=1.25.0,!=1.25.1,<1.26,>=1.21.1 in /usr/local/lib/python3.7/dist-packages (from requests->nba_api) (1.24.3)\n",
            "Requirement already satisfied: idna<3,>=2.5 in /usr/local/lib/python3.7/dist-packages (from requests->nba_api) (2.10)\n",
            "Building wheels for collected packages: nba-api\n",
            "  Building wheel for nba-api (setup.py) ... \u001b[?25l\u001b[?25hdone\n",
            "  Created wheel for nba-api: filename=nba_api-1.1.11-py3-none-any.whl size=251504 sha256=2e46e3cd24e1b04a252e56259a17885ad64e0ec2bba46820a3c2892dcc59dc13\n",
            "  Stored in directory: /root/.cache/pip/wheels/e3/f4/46/996128675381abc175e306642bae575d372dcf7efc4683e551\n",
            "Successfully built nba-api\n",
            "Installing collected packages: nba-api\n",
            "Successfully installed nba-api-1.1.11\n"
          ]
        }
      ],
      "source": [
        "!pip install nba_api\n",
        "from nba_api.stats.static import players\n",
        "import pandas as pd\n",
        "import time\n"
      ],
      "id": "2ce48cb6-3f35-4f62-a652-edc84f171010"
    },
    {
      "cell_type": "code",
      "execution_count": null,
      "metadata": {
        "id": "K_3p2e_sUv8p",
        "colab": {
          "base_uri": "https://localhost:8080/",
          "height": 424
        },
        "outputId": "eeb5ab2b-3d09-489c-f727-b7d5a89e4b19"
      },
      "outputs": [
        {
          "output_type": "execute_result",
          "data": {
            "text/plain": [
              "     PLAYER_ID        PLAYER_NAME  TEAM_NAME\n",
              "0      1630173   Precious Achiuwa    Raptors\n",
              "1       203500       Steven Adams  Grizzlies\n",
              "2      1628389        Bam Adebayo       Heat\n",
              "3      1630583       Santi Aldama  Grizzlies\n",
              "4       200746  LaMarcus Aldridge       Nets\n",
              "..         ...                ...        ...\n",
              "612    1628221          Gabe York     Pacers\n",
              "613     201152     Thaddeus Young    Raptors\n",
              "614    1629027         Trae Young      Hawks\n",
              "615    1630209     Omer Yurtseven       Heat\n",
              "617    1627826        Ivica Zubac   Clippers\n",
              "\n",
              "[504 rows x 3 columns]"
            ],
            "text/html": [
              "\n",
              "  <div id=\"df-d472c6a1-644d-4412-84d9-ccea9ebaf7f4\">\n",
              "    <div class=\"colab-df-container\">\n",
              "      <div>\n",
              "<style scoped>\n",
              "    .dataframe tbody tr th:only-of-type {\n",
              "        vertical-align: middle;\n",
              "    }\n",
              "\n",
              "    .dataframe tbody tr th {\n",
              "        vertical-align: top;\n",
              "    }\n",
              "\n",
              "    .dataframe thead th {\n",
              "        text-align: right;\n",
              "    }\n",
              "</style>\n",
              "<table border=\"1\" class=\"dataframe\">\n",
              "  <thead>\n",
              "    <tr style=\"text-align: right;\">\n",
              "      <th></th>\n",
              "      <th>PLAYER_ID</th>\n",
              "      <th>PLAYER_NAME</th>\n",
              "      <th>TEAM_NAME</th>\n",
              "    </tr>\n",
              "  </thead>\n",
              "  <tbody>\n",
              "    <tr>\n",
              "      <th>0</th>\n",
              "      <td>1630173</td>\n",
              "      <td>Precious Achiuwa</td>\n",
              "      <td>Raptors</td>\n",
              "    </tr>\n",
              "    <tr>\n",
              "      <th>1</th>\n",
              "      <td>203500</td>\n",
              "      <td>Steven Adams</td>\n",
              "      <td>Grizzlies</td>\n",
              "    </tr>\n",
              "    <tr>\n",
              "      <th>2</th>\n",
              "      <td>1628389</td>\n",
              "      <td>Bam Adebayo</td>\n",
              "      <td>Heat</td>\n",
              "    </tr>\n",
              "    <tr>\n",
              "      <th>3</th>\n",
              "      <td>1630583</td>\n",
              "      <td>Santi Aldama</td>\n",
              "      <td>Grizzlies</td>\n",
              "    </tr>\n",
              "    <tr>\n",
              "      <th>4</th>\n",
              "      <td>200746</td>\n",
              "      <td>LaMarcus Aldridge</td>\n",
              "      <td>Nets</td>\n",
              "    </tr>\n",
              "    <tr>\n",
              "      <th>...</th>\n",
              "      <td>...</td>\n",
              "      <td>...</td>\n",
              "      <td>...</td>\n",
              "    </tr>\n",
              "    <tr>\n",
              "      <th>612</th>\n",
              "      <td>1628221</td>\n",
              "      <td>Gabe York</td>\n",
              "      <td>Pacers</td>\n",
              "    </tr>\n",
              "    <tr>\n",
              "      <th>613</th>\n",
              "      <td>201152</td>\n",
              "      <td>Thaddeus Young</td>\n",
              "      <td>Raptors</td>\n",
              "    </tr>\n",
              "    <tr>\n",
              "      <th>614</th>\n",
              "      <td>1629027</td>\n",
              "      <td>Trae Young</td>\n",
              "      <td>Hawks</td>\n",
              "    </tr>\n",
              "    <tr>\n",
              "      <th>615</th>\n",
              "      <td>1630209</td>\n",
              "      <td>Omer Yurtseven</td>\n",
              "      <td>Heat</td>\n",
              "    </tr>\n",
              "    <tr>\n",
              "      <th>617</th>\n",
              "      <td>1627826</td>\n",
              "      <td>Ivica Zubac</td>\n",
              "      <td>Clippers</td>\n",
              "    </tr>\n",
              "  </tbody>\n",
              "</table>\n",
              "<p>504 rows × 3 columns</p>\n",
              "</div>\n",
              "      <button class=\"colab-df-convert\" onclick=\"convertToInteractive('df-d472c6a1-644d-4412-84d9-ccea9ebaf7f4')\"\n",
              "              title=\"Convert this dataframe to an interactive table.\"\n",
              "              style=\"display:none;\">\n",
              "        \n",
              "  <svg xmlns=\"http://www.w3.org/2000/svg\" height=\"24px\"viewBox=\"0 0 24 24\"\n",
              "       width=\"24px\">\n",
              "    <path d=\"M0 0h24v24H0V0z\" fill=\"none\"/>\n",
              "    <path d=\"M18.56 5.44l.94 2.06.94-2.06 2.06-.94-2.06-.94-.94-2.06-.94 2.06-2.06.94zm-11 1L8.5 8.5l.94-2.06 2.06-.94-2.06-.94L8.5 2.5l-.94 2.06-2.06.94zm10 10l.94 2.06.94-2.06 2.06-.94-2.06-.94-.94-2.06-.94 2.06-2.06.94z\"/><path d=\"M17.41 7.96l-1.37-1.37c-.4-.4-.92-.59-1.43-.59-.52 0-1.04.2-1.43.59L10.3 9.45l-7.72 7.72c-.78.78-.78 2.05 0 2.83L4 21.41c.39.39.9.59 1.41.59.51 0 1.02-.2 1.41-.59l7.78-7.78 2.81-2.81c.8-.78.8-2.07 0-2.86zM5.41 20L4 18.59l7.72-7.72 1.47 1.35L5.41 20z\"/>\n",
              "  </svg>\n",
              "      </button>\n",
              "      \n",
              "  <style>\n",
              "    .colab-df-container {\n",
              "      display:flex;\n",
              "      flex-wrap:wrap;\n",
              "      gap: 12px;\n",
              "    }\n",
              "\n",
              "    .colab-df-convert {\n",
              "      background-color: #E8F0FE;\n",
              "      border: none;\n",
              "      border-radius: 50%;\n",
              "      cursor: pointer;\n",
              "      display: none;\n",
              "      fill: #1967D2;\n",
              "      height: 32px;\n",
              "      padding: 0 0 0 0;\n",
              "      width: 32px;\n",
              "    }\n",
              "\n",
              "    .colab-df-convert:hover {\n",
              "      background-color: #E2EBFA;\n",
              "      box-shadow: 0px 1px 2px rgba(60, 64, 67, 0.3), 0px 1px 3px 1px rgba(60, 64, 67, 0.15);\n",
              "      fill: #174EA6;\n",
              "    }\n",
              "\n",
              "    [theme=dark] .colab-df-convert {\n",
              "      background-color: #3B4455;\n",
              "      fill: #D2E3FC;\n",
              "    }\n",
              "\n",
              "    [theme=dark] .colab-df-convert:hover {\n",
              "      background-color: #434B5C;\n",
              "      box-shadow: 0px 1px 3px 1px rgba(0, 0, 0, 0.15);\n",
              "      filter: drop-shadow(0px 1px 2px rgba(0, 0, 0, 0.3));\n",
              "      fill: #FFFFFF;\n",
              "    }\n",
              "  </style>\n",
              "\n",
              "      <script>\n",
              "        const buttonEl =\n",
              "          document.querySelector('#df-d472c6a1-644d-4412-84d9-ccea9ebaf7f4 button.colab-df-convert');\n",
              "        buttonEl.style.display =\n",
              "          google.colab.kernel.accessAllowed ? 'block' : 'none';\n",
              "\n",
              "        async function convertToInteractive(key) {\n",
              "          const element = document.querySelector('#df-d472c6a1-644d-4412-84d9-ccea9ebaf7f4');\n",
              "          const dataTable =\n",
              "            await google.colab.kernel.invokeFunction('convertToInteractive',\n",
              "                                                     [key], {});\n",
              "          if (!dataTable) return;\n",
              "\n",
              "          const docLinkHtml = 'Like what you see? Visit the ' +\n",
              "            '<a target=\"_blank\" href=https://colab.research.google.com/notebooks/data_table.ipynb>data table notebook</a>'\n",
              "            + ' to learn more about interactive tables.';\n",
              "          element.innerHTML = '';\n",
              "          dataTable['output_type'] = 'display_data';\n",
              "          await google.colab.output.renderOutput(dataTable, element);\n",
              "          const docLink = document.createElement('div');\n",
              "          docLink.innerHTML = docLinkHtml;\n",
              "          element.appendChild(docLink);\n",
              "        }\n",
              "      </script>\n",
              "    </div>\n",
              "  </div>\n",
              "  "
            ]
          },
          "metadata": {},
          "execution_count": 3
        }
      ],
      "source": [
        "from nba_api.stats.endpoints import commonallplayers\n",
        "\n",
        "def get_and_save_players_list():\n",
        "  players = commonallplayers.CommonAllPlayers(is_only_current_season =1).get_data_frames()[0]\n",
        "  players = players[ (players[\"TEAM_NAME\"]!=\"\") \n",
        "  & (players[\"GAMES_PLAYED_FLAG\"]!=\"N\") \n",
        "  & (players[\"PERSON_ID\"]!=1630597) ]\n",
        "  players = players[[\"PERSON_ID\",\"DISPLAY_FIRST_LAST\",\"TEAM_NAME\"]]\n",
        "  players = players.rename(columns={\"PERSON_ID\": \"PLAYER_ID\", \"DISPLAY_FIRST_LAST\": \"PLAYER_NAME\"})\n",
        "  players.to_csv(\"nba_current_players_list.csv\")\n",
        "  return players\n",
        "\n",
        "data = get_and_save_players_list()\n",
        "data"
      ],
      "id": "K_3p2e_sUv8p"
    },
    {
      "cell_type": "code",
      "execution_count": null,
      "metadata": {
        "id": "d1619cb8-d6cf-4645-b696-a351fac2f3a9"
      },
      "outputs": [],
      "source": [
        "current_players_list = get_and_save_players_list()\n",
        "current_players_list.to_csv(\"nba_current_players_list.csv\")"
      ],
      "id": "d1619cb8-d6cf-4645-b696-a351fac2f3a9"
    },
    {
      "cell_type": "markdown",
      "metadata": {
        "id": "d8ea7729-4019-4d7e-9167-e412becbf215"
      },
      "source": [
        "2- Create a function to find the personal information of all players listed in the dataframe created in the previous step, and save it to a csv file named \"nba_players_personal_info.csv\". The function should also return the created dataframe."
      ],
      "id": "d8ea7729-4019-4d7e-9167-e412becbf215"
    },
    {
      "cell_type": "markdown",
      "metadata": {
        "id": "428bef6b-05d0-4a9a-82cd-71fa81837247"
      },
      "source": [
        "OPTIONAL: iterating on a list of players and making API calls can be complex and full of errors, try a code block that handles exceptions (for example a timeout from the API) and returns the partial result before it failed, you could also save the partial information to disk."
      ],
      "id": "428bef6b-05d0-4a9a-82cd-71fa81837247"
    },
    {
      "cell_type": "code",
      "execution_count": null,
      "metadata": {
        "id": "541491d1-33eb-4277-afb5-ff449109f680"
      },
      "outputs": [],
      "source": [
        "from nba_api.stats.endpoints import commonplayerinfo\n",
        "\n",
        "def get_players_personal_information(current_players_list):\n",
        "  players_list = list(current_players_list[\"PLAYER_ID\"])\n",
        "  all_players = pd.DataFrame()\n",
        "  n = 0\n",
        "  print(n)\n",
        "  for player in players_list:\n",
        "      n+=1\n",
        "      player_info = commonplayerinfo.CommonPlayerInfo(player_id=player).get_data_frames()\n",
        "      player_info = player_info[0]\n",
        "      all_players = pd.concat([all_players,player_info])\n",
        "      time.sleep(0.5)\n",
        "\n",
        "  all_players = all_players[[\"PERSON_ID\",\"DISPLAY_FIRST_LAST\", \"TEAM_NAME\", \"POSITION\", \"HEIGHT\", \"WEIGHT\", \"COUNTRY\", \"BIRTHDATE\", \"SEASON_EXP\", \"DRAFT_NUMBER\"]]\n",
        "  all_players.rename(\n",
        "    columns = {\"PERSON_ID\":\"PLAYER_ID\", \"DISPLAY_FIRST_LAST\":\"FULL_NAME\"}, inplace = True)\n",
        "  all_players.to_csv(\"nba_players_personal_info.csv\")\n",
        "  return all_players\n",
        "  all_players"
      ],
      "id": "541491d1-33eb-4277-afb5-ff449109f680"
    },
    {
      "cell_type": "code",
      "execution_count": null,
      "metadata": {
        "id": "d34373b8-fc72-48e1-aef3-654508a27308",
        "colab": {
          "base_uri": "https://localhost:8080/"
        },
        "outputId": "78882d3e-d140-4346-e7d2-f436cd0c529f"
      },
      "outputs": [
        {
          "output_type": "stream",
          "name": "stdout",
          "text": [
            "0\n"
          ]
        }
      ],
      "source": [
        "players_personal_info = get_players_personal_information(current_players_list)\n",
        "players_personal_info.to_csv(\"nba_players_personal_info.csv\")"
      ],
      "id": "d34373b8-fc72-48e1-aef3-654508a27308"
    },
    {
      "cell_type": "markdown",
      "metadata": {
        "id": "299218a4-1d90-4f55-822a-ec059474ea69"
      },
      "source": [
        "3- Create a function to find players career statistics, store the information in a CSV file called \"nba_players_career_stats.csv\""
      ],
      "id": "299218a4-1d90-4f55-822a-ec059474ea69"
    },
    {
      "cell_type": "code",
      "execution_count": null,
      "metadata": {
        "id": "g29Ix1Q70eRb"
      },
      "outputs": [],
      "source": [
        "from nba_api.stats.endpoints import playercareerstats\n",
        "def get_players_career_stats(current_players_list):\n",
        "\n",
        "  players_list = list(current_players_list[\"PLAYER_ID\"])\n",
        "  all_players = pd.DataFrame()\n",
        "  n = 0\n",
        "  print(n)\n",
        "  for player in players_list:\n",
        "      n+=1\n",
        "      player_careers = playercareerstats.PlayerCareerStats(player_id=player,per_mode36= \"PerGame\" ).get_data_frames()\n",
        "      player_careers = player_careers[1]\n",
        "      all_players = pd.concat([all_players,player_careers])\n",
        "      time.sleep(0.5)\n",
        "  print(n)\n",
        "  all_players = all_players[[\"PLAYER_ID\",\"GP\", \"MIN\", \"PTS\", \"REB\", \"AST\", \"STL\", \"BLK\"]]\n",
        "  all_players.to_csv(\"nba_players_career_stats.csv\")\n",
        "  return all_players"
      ],
      "id": "g29Ix1Q70eRb"
    },
    {
      "cell_type": "code",
      "execution_count": null,
      "metadata": {
        "id": "af100c14-2b06-4019-8a6a-6299f66da4df",
        "colab": {
          "base_uri": "https://localhost:8080/"
        },
        "outputId": "849ad0e2-f6df-4cf9-e062-df8f868ab913"
      },
      "outputs": [
        {
          "output_type": "stream",
          "name": "stdout",
          "text": [
            "0\n",
            "504\n"
          ]
        }
      ],
      "source": [
        "players_career_stats = get_players_career_stats(current_players_list)\n",
        "players_career_stats.to_csv(\"nba_players_career_stats.csv\")"
      ],
      "id": "af100c14-2b06-4019-8a6a-6299f66da4df"
    },
    {
      "cell_type": "markdown",
      "metadata": {
        "id": "68a65d51-6847-4811-b57f-1f858c27decd"
      },
      "source": [
        "4- Create a function to find players next games and save the information to a csv call \"nba_players_next_game.csv\""
      ],
      "id": "68a65d51-6847-4811-b57f-1f858c27decd"
    },
    {
      "cell_type": "code",
      "source": [
        "from nba_api.stats.endpoints import playerprofilev2\n",
        "import time\n",
        "def get_players_next_game(current_players_list):\n",
        "  all_players_next = pd.DataFrame()\n",
        "  players_list_id = []\n",
        "  n = 0\n",
        "\n",
        "  for playerid in (current_players_list[\"PLAYER_ID\"]):\n",
        "\n",
        "      players_list_id.append(playerid)\n",
        "      player_v2 = playerprofilev2.PlayerProfileV2(player_id=playerid, per_mode36 = \"PerGame\") \n",
        "\n",
        "\n",
        "      next_games_p = player_v2.next_game.get_data_frame() \n",
        "      next_games_p = next_games_p[\"GAME_DATE\"]\n",
        "\n",
        "      if next_games_p.empty:\n",
        "        empy_resp = pd.Series([\"NaN\"]) \n",
        "        all_players_next= pd.concat([all_players_next, empy_resp])\n",
        "      \n",
        "      else: \n",
        "        all_players_next = pd.concat([all_players_next, next_games_p])\n",
        "      time.sleep(0.8)\n",
        "      n+=1\n",
        "\n",
        "  all_players_next.columns = [\"GAME_TIME\"]\n",
        "  all_players_next[\"PLAYER_ID\"] = players_list_id\n",
        "  all_players_next.rename(\n",
        "    columns = {\"GAME_TIME\":\"GAME_DATE\"}, inplace = True)\n",
        "\n",
        "  return all_players_next[[\"PLAYER_ID\", \"GAME_DATE\"]].reset_index(drop=True)\n"
      ],
      "metadata": {
        "id": "4wCogyJW5M3-"
      },
      "id": "4wCogyJW5M3-",
      "execution_count": null,
      "outputs": []
    },
    {
      "cell_type": "code",
      "execution_count": null,
      "metadata": {
        "id": "17915222-3606-4bb2-93e6-27d98eea7c7b"
      },
      "outputs": [],
      "source": [
        "players_next_game = get_players_next_game(current_players_list)\n",
        "players_next_game.to_csv(\"nba_players_next_game.csv\")"
      ],
      "id": "17915222-3606-4bb2-93e6-27d98eea7c7b"
    },
    {
      "cell_type": "markdown",
      "metadata": {
        "id": "55b8ce09-e5d9-4f82-87db-ffe2916cc431"
      },
      "source": [
        "5- Create a function to find players salary for this season, save the information to a csv called \"nba_players_salary.csv\". Make sure the players names format match the ones in the API, otherwise you won't be able to merge the data later."
      ],
      "id": "55b8ce09-e5d9-4f82-87db-ffe2916cc431"
    },
    {
      "cell_type": "markdown",
      "metadata": {
        "id": "10da071b-ca7d-429e-bb85-e731cd66abb7"
      },
      "source": [
        "Hint: Using data from the Basketball Reference page, you will have to solve 2 kinds of problems, duplicated values (for which you should keep just the first value) and players names not matching with the ones from the API. The latter problem has multiple causes, one of them is that some names are written with non ascii characters (there are libraries for dealing with that)."
      ],
      "id": "10da071b-ca7d-429e-bb85-e731cd66abb7"
    },
    {
      "cell_type": "code",
      "source": [
        "!pip install Unidecode"
      ],
      "metadata": {
        "id": "Td_a773JNsuI",
        "colab": {
          "base_uri": "https://localhost:8080/"
        },
        "outputId": "b93acaca-3ff8-47d5-8a96-ee8355163928"
      },
      "id": "Td_a773JNsuI",
      "execution_count": null,
      "outputs": [
        {
          "output_type": "stream",
          "name": "stdout",
          "text": [
            "Collecting Unidecode\n",
            "  Downloading Unidecode-1.3.4-py3-none-any.whl (235 kB)\n",
            "\u001b[K     |████████████████████████████████| 235 kB 4.1 MB/s \n",
            "\u001b[?25hInstalling collected packages: Unidecode\n",
            "Successfully installed Unidecode-1.3.4\n"
          ]
        }
      ]
    },
    {
      "cell_type": "code",
      "execution_count": null,
      "metadata": {
        "id": "cecfecb4-62bb-41b9-b4ae-13b57c3e2198"
      },
      "outputs": [],
      "source": [
        "from unidecode import unidecode\n",
        "\n",
        "players_salaries = pd.read_csv(\"nba_players_salary.csv\")\n",
        "players_salaries = players_salaries[[\"Player\", \"2021-22\"]]\n",
        "players_salaries = players_salaries.rename(columns={\"Player\":\"PLAYER_NAME\", \"2021-22\":\"SALARY\"})\n",
        "\n",
        "\n",
        "players_salaries.drop_duplicates(subset=[\"PLAYER_NAME\"], inplace=True, keep=\"first\")\n",
        "\n",
        "players_salaries[\"PLAYER_NAME\"] = players_salaries[\"PLAYER_NAME\"].str.split(\"\\\\\").str[0]\n",
        "players_salaries[\"PLAYER_NAME\"] = players_salaries[\"PLAYER_NAME\"].apply(unidecode)\n",
        "\n",
        "players_salaries.dropna(subset=[\"SALARY\"], inplace=True)\n"
      ],
      "id": "cecfecb4-62bb-41b9-b4ae-13b57c3e2198"
    },
    {
      "cell_type": "code",
      "execution_count": null,
      "metadata": {
        "id": "72f0edd5-c702-463e-8e17-4270a3131bba"
      },
      "outputs": [],
      "source": [
        "players_salaries.to_csv(\"nba_players_salary.csv\")"
      ],
      "id": "72f0edd5-c702-463e-8e17-4270a3131bba"
    },
    {
      "cell_type": "markdown",
      "metadata": {
        "id": "5bd1cb5a-d9d1-454e-80d3-81521ac1d94e"
      },
      "source": [
        "6- Create a function to merge the created dataframes: players_personal_info, players_career_stats, players_next_game, players_salaries. For each dataframe, select only the subset of columns needed to create the dataset described in section \"The Dataset\"\n",
        "\n",
        "    - Players info: \"PLAYER_NAME\", \"TEAM_NAME\", \"POSITION\", \"HEIGHT\", \"WEIGHT\", \"COUNTRY\", \"BIRTHDATE\", \"SEASON_EXP\", \"DRAFT_NUMBER\"\n",
        "    - Players stats: \"GP\", \"MIN\", \"PTS\", \"REB\", \"AST\", \"STL\", \"BLK\"\n",
        "    - Misc: \"GAME_DATE\", \"SALARY\"\n",
        "\n",
        "Save the result to a csv called \"raw_nba_players_dataset.csv\""
      ],
      "id": "5bd1cb5a-d9d1-454e-80d3-81521ac1d94e"
    },
    {
      "cell_type": "markdown",
      "metadata": {
        "id": "4bb26887-9030-49dd-aa24-6433df8d6f50"
      },
      "source": [
        "Hint: Before merging the data, you should make sure all four dataframes have the same length, are indexed by PERSON_ID and have the same keys"
      ],
      "id": "4bb26887-9030-49dd-aa24-6433df8d6f50"
    },
    {
      "cell_type": "code",
      "execution_count": null,
      "metadata": {
        "id": "81bb411a-ecf4-4cd8-8cd8-2d9259397324"
      },
      "outputs": [],
      "source": [
        "def merge_dataframes():\n",
        "    df_final = players_personal_info.merge(current_players_list,\n",
        "                                           on =\"PLAYER_ID\").merge(players_career_stats,\n",
        "                                           on=\"PLAYER_ID\").merge(players_next_game,\n",
        "                                           on=\"PLAYER_ID\").merge(players_salaries, on=\"PLAYER_NAME\")\n",
        "\n",
        "    df_final.drop([\"PLAYER_ID\", \"TEAM_NAME_y\", \"TEAM_NAME_y\", \"PLAYER_NAME\"], axis=1, inplace=True)\n",
        "    df_final.rename(\n",
        "      columns = {\"FULL_NAME\":\"PLAYER_NAME\", \"TEAM_NAME_x\":\"TEAM_NAME\"}, inplace = True)\n",
        "\n",
        "                                           \n",
        "    return df_final    "
      ],
      "id": "81bb411a-ecf4-4cd8-8cd8-2d9259397324"
    },
    {
      "cell_type": "code",
      "execution_count": null,
      "metadata": {
        "id": "388ceb75-3de2-4e28-a10a-d389d7617905"
      },
      "outputs": [],
      "source": [
        "raw_players_dataset = merge_dataframes()\n",
        "raw_players_dataset.to_csv(\"raw_nba_players_dataset.csv\")"
      ],
      "id": "388ceb75-3de2-4e28-a10a-d389d7617905"
    },
    {
      "cell_type": "markdown",
      "metadata": {
        "id": "b08b2775-dd82-415a-8a6e-46c51b8c3f2b"
      },
      "source": [
        "## Data Cleaning and Preprocessing"
      ],
      "id": "b08b2775-dd82-415a-8a6e-46c51b8c3f2b"
    },
    {
      "cell_type": "markdown",
      "metadata": {
        "id": "c52dd5c8-5536-4b0e-a51a-6d7ff4140c0b"
      },
      "source": [
        "There are several steps that you will have to follow, depending on where you have collected the data some information might be missing.  \n",
        "\n",
        "- Height and weight might need to be converted to the metric system\n",
        "- Players that have no team assigned should be removed from the dataset\n",
        "- Players with no contracts (meaning they don't have a salary defined) should be removed from the dataset\n",
        "- If the \"position\" data is ambiguous (listed at multiple positions), use the first value\n",
        "- If the player does not have height or weight data, use the average for its position as its value\n",
        "- In order to fill the column next_game_date, just consider the date of the next game of each player's team. "
      ],
      "id": "c52dd5c8-5536-4b0e-a51a-6d7ff4140c0b"
    },
    {
      "cell_type": "markdown",
      "metadata": {
        "id": "af006585-e338-429a-a0ef-2598430f8b32"
      },
      "source": [
        "1- Create a copy of your dataset named \"working_df\", remove all players with no teams or salary"
      ],
      "id": "af006585-e338-429a-a0ef-2598430f8b32"
    },
    {
      "cell_type": "code",
      "execution_count": null,
      "metadata": {
        "id": "4327e4da-a3e0-4870-a7a4-abea76fb2205"
      },
      "outputs": [],
      "source": [
        "def copy_and_delete_nan(raw_players_dataset):\n",
        "    working_df = raw_players_dataset.copy()\n",
        "    working_df[\"TEAM_NAME\"].dropna(inplace=True)\n",
        "    working_df[\"SALARY\"].dropna(inplace=True)\n",
        "\n",
        "    return working_df"
      ],
      "id": "4327e4da-a3e0-4870-a7a4-abea76fb2205"
    },
    {
      "cell_type": "code",
      "execution_count": null,
      "metadata": {
        "id": "93e2d191-dadd-481c-91fa-ff5aac1c824b"
      },
      "outputs": [],
      "source": [
        "working_df = copy_and_delete_nan(raw_players_dataset)"
      ],
      "id": "93e2d191-dadd-481c-91fa-ff5aac1c824b"
    },
    {
      "cell_type": "markdown",
      "metadata": {
        "id": "9ccbdce4-cf4f-48e2-a597-49816f18a400"
      },
      "source": [
        "2- Cast Salary, Birthday and Game Date columns to its corresponding type (int, datetime) "
      ],
      "id": "9ccbdce4-cf4f-48e2-a597-49816f18a400"
    },
    {
      "cell_type": "code",
      "execution_count": null,
      "metadata": {
        "id": "d3b4d50c-4677-4014-88cc-78f142811b8b"
      },
      "outputs": [],
      "source": [
        "def cast_columns(working_df):\n",
        "    working_df[\"SALARY\"] = working_df[\"SALARY\"].str.replace('[\\$\\,]', '', regex=True).astype(int)\n",
        "    working_df['BIRTHDATE'] = working_df['BIRTHDATE'].astype('datetime64')\n",
        "    working_df['GAME_DATE'] = pd.to_datetime(working_df.GAME_DATE)"
      ],
      "id": "d3b4d50c-4677-4014-88cc-78f142811b8b"
    },
    {
      "cell_type": "code",
      "execution_count": null,
      "metadata": {
        "id": "680875dc-2478-4213-b2f7-4a1da03ec71f"
      },
      "outputs": [],
      "source": [
        "cast_columns(working_df)"
      ],
      "id": "680875dc-2478-4213-b2f7-4a1da03ec71f"
    },
    {
      "cell_type": "markdown",
      "metadata": {
        "id": "f20f28d7-e6a1-4e6d-a51b-80ef8be06fd5"
      },
      "source": [
        "3- Create a function that converts the height column from height in feet and inches to centimeters"
      ],
      "id": "f20f28d7-e6a1-4e6d-a51b-80ef8be06fd5"
    },
    {
      "cell_type": "code",
      "execution_count": null,
      "metadata": {
        "id": "8d56db84-cb66-4ca5-8789-b8b6f7938a0b"
      },
      "outputs": [],
      "source": [
        "import numpy as np\n",
        "def convert_height_column(working_df):\n",
        "  working_df[\"HEIGHT\"] = working_df[\"HEIGHT\"].apply(lambda x: int(round(int(x[:1])*30.48 + int(x[2:])*2.54,0)))\n",
        "  return\n"
      ],
      "id": "8d56db84-cb66-4ca5-8789-b8b6f7938a0b"
    },
    {
      "cell_type": "code",
      "execution_count": null,
      "metadata": {
        "id": "a0d50bed-0dc9-4672-a446-f677b7282bb0"
      },
      "outputs": [],
      "source": [
        "convert_height_column(working_df)"
      ],
      "id": "a0d50bed-0dc9-4672-a446-f677b7282bb0"
    },
    {
      "cell_type": "markdown",
      "metadata": {
        "id": "a611380e-47fe-4e81-8312-25876fb2025d"
      },
      "source": [
        "4- Create a function that converts the weight column from pounds to kilograms"
      ],
      "id": "a611380e-47fe-4e81-8312-25876fb2025d"
    },
    {
      "cell_type": "code",
      "source": [
        "import numpy as np\n",
        "def convert_weight_column():\n",
        "  pound_value = 0.453592\n",
        "\n",
        "  pounds = working_df.WEIGHT\n",
        "  pounds = np.array(pounds.astype({\"WEIGHT\": int}))\n",
        "\n",
        "  total_weight = list(pound_value*pounds)\n",
        "  working_df[\"WEIGHT\"] = [int(weight) for weight in total_weight]\n",
        "  return working_df"
      ],
      "metadata": {
        "id": "URCP98M9NEWQ"
      },
      "id": "URCP98M9NEWQ",
      "execution_count": null,
      "outputs": []
    },
    {
      "cell_type": "code",
      "source": [
        "working_df = convert_weight_column()\n",
        "working_df"
      ],
      "metadata": {
        "colab": {
          "base_uri": "https://localhost:8080/",
          "height": 609
        },
        "id": "9n6C04UTNuUU",
        "outputId": "ee2324cb-d0a8-4625-dfab-8145e3d990d4"
      },
      "id": "9n6C04UTNuUU",
      "execution_count": null,
      "outputs": [
        {
          "output_type": "execute_result",
          "data": {
            "text/plain": [
              "           PLAYER_NAME  TEAM_NAME        POSITION  HEIGHT  WEIGHT  \\\n",
              "0     Precious Achiuwa    Raptors         Forward     203     102   \n",
              "1         Steven Adams  Grizzlies          Center     211     120   \n",
              "2          Bam Adebayo       Heat  Center-Forward     206     115   \n",
              "3         Santi Aldama  Grizzlies  Forward-Center     211      97   \n",
              "4    LaMarcus Aldridge       Nets  Center-Forward     211     113   \n",
              "..                 ...        ...             ...     ...     ...   \n",
              "441       Delon Wright      Hawks           Guard     196      83   \n",
              "442     Thaddeus Young    Raptors         Forward     203     106   \n",
              "443         Trae Young      Hawks           Guard     185      74   \n",
              "444     Omer Yurtseven       Heat          Center     211     124   \n",
              "445        Ivica Zubac   Clippers          Center     213     108   \n",
              "\n",
              "         COUNTRY  BIRTHDATE  SEASON_EXP DRAFT_NUMBER    GP   MIN   PTS  REB  \\\n",
              "0        Nigeria 1999-09-19           1           20   134  18.4   7.2  5.1   \n",
              "1    New Zealand 1993-07-20           8           12   664  26.8   9.3  8.0   \n",
              "2            USA 1997-07-18           4           14   343  28.2  13.5  8.3   \n",
              "3          Spain 2001-01-10           0           30    32  11.2   4.1  2.7   \n",
              "4            USA 1985-07-19          15            2  1076  33.7  19.1  8.1   \n",
              "..           ...        ...         ...          ...   ...   ...   ...  ...   \n",
              "441          USA 1992-04-26           6           20   411  20.9   7.2  3.2   \n",
              "442          USA 1988-06-21          14           12  1085  29.3  12.8  5.8   \n",
              "443          USA 1998-09-19           3            5   280  33.6  25.3  3.9   \n",
              "444       Turkey 1998-06-19           0    Undrafted    56  12.6   5.3  5.3   \n",
              "445      Croatia 1997-03-18           5           32   360  19.0   8.3  6.5   \n",
              "\n",
              "     AST  STL  BLK  GAME_DATE    SALARY  \n",
              "0    0.8  0.4  0.5 2022-04-28   2711280  \n",
              "1    1.5  0.9  0.9 2022-04-26  17073171  \n",
              "2    3.5  1.0  0.9 2022-04-26  28103550  \n",
              "3    0.7  0.2  0.3 2022-04-26   1994520  \n",
              "4    1.9  0.7  1.1 2022-04-27   2641691  \n",
              "..   ...  ...  ...        ...       ...  \n",
              "441  3.0  1.2  0.4 2022-04-26   8526316  \n",
              "442  1.8  1.4  0.4 2022-04-28  14190000  \n",
              "443  9.1  0.9  0.2 2022-04-26   8326471  \n",
              "444  0.9  0.3  0.4 2022-04-26   1489065  \n",
              "445  1.1  0.3  0.8        NaT   7518518  \n",
              "\n",
              "[446 rows x 18 columns]"
            ],
            "text/html": [
              "\n",
              "  <div id=\"df-da36b180-7346-4417-8e53-fd6db569217a\">\n",
              "    <div class=\"colab-df-container\">\n",
              "      <div>\n",
              "<style scoped>\n",
              "    .dataframe tbody tr th:only-of-type {\n",
              "        vertical-align: middle;\n",
              "    }\n",
              "\n",
              "    .dataframe tbody tr th {\n",
              "        vertical-align: top;\n",
              "    }\n",
              "\n",
              "    .dataframe thead th {\n",
              "        text-align: right;\n",
              "    }\n",
              "</style>\n",
              "<table border=\"1\" class=\"dataframe\">\n",
              "  <thead>\n",
              "    <tr style=\"text-align: right;\">\n",
              "      <th></th>\n",
              "      <th>PLAYER_NAME</th>\n",
              "      <th>TEAM_NAME</th>\n",
              "      <th>POSITION</th>\n",
              "      <th>HEIGHT</th>\n",
              "      <th>WEIGHT</th>\n",
              "      <th>COUNTRY</th>\n",
              "      <th>BIRTHDATE</th>\n",
              "      <th>SEASON_EXP</th>\n",
              "      <th>DRAFT_NUMBER</th>\n",
              "      <th>GP</th>\n",
              "      <th>MIN</th>\n",
              "      <th>PTS</th>\n",
              "      <th>REB</th>\n",
              "      <th>AST</th>\n",
              "      <th>STL</th>\n",
              "      <th>BLK</th>\n",
              "      <th>GAME_DATE</th>\n",
              "      <th>SALARY</th>\n",
              "    </tr>\n",
              "  </thead>\n",
              "  <tbody>\n",
              "    <tr>\n",
              "      <th>0</th>\n",
              "      <td>Precious Achiuwa</td>\n",
              "      <td>Raptors</td>\n",
              "      <td>Forward</td>\n",
              "      <td>203</td>\n",
              "      <td>102</td>\n",
              "      <td>Nigeria</td>\n",
              "      <td>1999-09-19</td>\n",
              "      <td>1</td>\n",
              "      <td>20</td>\n",
              "      <td>134</td>\n",
              "      <td>18.4</td>\n",
              "      <td>7.2</td>\n",
              "      <td>5.1</td>\n",
              "      <td>0.8</td>\n",
              "      <td>0.4</td>\n",
              "      <td>0.5</td>\n",
              "      <td>2022-04-28</td>\n",
              "      <td>2711280</td>\n",
              "    </tr>\n",
              "    <tr>\n",
              "      <th>1</th>\n",
              "      <td>Steven Adams</td>\n",
              "      <td>Grizzlies</td>\n",
              "      <td>Center</td>\n",
              "      <td>211</td>\n",
              "      <td>120</td>\n",
              "      <td>New Zealand</td>\n",
              "      <td>1993-07-20</td>\n",
              "      <td>8</td>\n",
              "      <td>12</td>\n",
              "      <td>664</td>\n",
              "      <td>26.8</td>\n",
              "      <td>9.3</td>\n",
              "      <td>8.0</td>\n",
              "      <td>1.5</td>\n",
              "      <td>0.9</td>\n",
              "      <td>0.9</td>\n",
              "      <td>2022-04-26</td>\n",
              "      <td>17073171</td>\n",
              "    </tr>\n",
              "    <tr>\n",
              "      <th>2</th>\n",
              "      <td>Bam Adebayo</td>\n",
              "      <td>Heat</td>\n",
              "      <td>Center-Forward</td>\n",
              "      <td>206</td>\n",
              "      <td>115</td>\n",
              "      <td>USA</td>\n",
              "      <td>1997-07-18</td>\n",
              "      <td>4</td>\n",
              "      <td>14</td>\n",
              "      <td>343</td>\n",
              "      <td>28.2</td>\n",
              "      <td>13.5</td>\n",
              "      <td>8.3</td>\n",
              "      <td>3.5</td>\n",
              "      <td>1.0</td>\n",
              "      <td>0.9</td>\n",
              "      <td>2022-04-26</td>\n",
              "      <td>28103550</td>\n",
              "    </tr>\n",
              "    <tr>\n",
              "      <th>3</th>\n",
              "      <td>Santi Aldama</td>\n",
              "      <td>Grizzlies</td>\n",
              "      <td>Forward-Center</td>\n",
              "      <td>211</td>\n",
              "      <td>97</td>\n",
              "      <td>Spain</td>\n",
              "      <td>2001-01-10</td>\n",
              "      <td>0</td>\n",
              "      <td>30</td>\n",
              "      <td>32</td>\n",
              "      <td>11.2</td>\n",
              "      <td>4.1</td>\n",
              "      <td>2.7</td>\n",
              "      <td>0.7</td>\n",
              "      <td>0.2</td>\n",
              "      <td>0.3</td>\n",
              "      <td>2022-04-26</td>\n",
              "      <td>1994520</td>\n",
              "    </tr>\n",
              "    <tr>\n",
              "      <th>4</th>\n",
              "      <td>LaMarcus Aldridge</td>\n",
              "      <td>Nets</td>\n",
              "      <td>Center-Forward</td>\n",
              "      <td>211</td>\n",
              "      <td>113</td>\n",
              "      <td>USA</td>\n",
              "      <td>1985-07-19</td>\n",
              "      <td>15</td>\n",
              "      <td>2</td>\n",
              "      <td>1076</td>\n",
              "      <td>33.7</td>\n",
              "      <td>19.1</td>\n",
              "      <td>8.1</td>\n",
              "      <td>1.9</td>\n",
              "      <td>0.7</td>\n",
              "      <td>1.1</td>\n",
              "      <td>2022-04-27</td>\n",
              "      <td>2641691</td>\n",
              "    </tr>\n",
              "    <tr>\n",
              "      <th>...</th>\n",
              "      <td>...</td>\n",
              "      <td>...</td>\n",
              "      <td>...</td>\n",
              "      <td>...</td>\n",
              "      <td>...</td>\n",
              "      <td>...</td>\n",
              "      <td>...</td>\n",
              "      <td>...</td>\n",
              "      <td>...</td>\n",
              "      <td>...</td>\n",
              "      <td>...</td>\n",
              "      <td>...</td>\n",
              "      <td>...</td>\n",
              "      <td>...</td>\n",
              "      <td>...</td>\n",
              "      <td>...</td>\n",
              "      <td>...</td>\n",
              "      <td>...</td>\n",
              "    </tr>\n",
              "    <tr>\n",
              "      <th>441</th>\n",
              "      <td>Delon Wright</td>\n",
              "      <td>Hawks</td>\n",
              "      <td>Guard</td>\n",
              "      <td>196</td>\n",
              "      <td>83</td>\n",
              "      <td>USA</td>\n",
              "      <td>1992-04-26</td>\n",
              "      <td>6</td>\n",
              "      <td>20</td>\n",
              "      <td>411</td>\n",
              "      <td>20.9</td>\n",
              "      <td>7.2</td>\n",
              "      <td>3.2</td>\n",
              "      <td>3.0</td>\n",
              "      <td>1.2</td>\n",
              "      <td>0.4</td>\n",
              "      <td>2022-04-26</td>\n",
              "      <td>8526316</td>\n",
              "    </tr>\n",
              "    <tr>\n",
              "      <th>442</th>\n",
              "      <td>Thaddeus Young</td>\n",
              "      <td>Raptors</td>\n",
              "      <td>Forward</td>\n",
              "      <td>203</td>\n",
              "      <td>106</td>\n",
              "      <td>USA</td>\n",
              "      <td>1988-06-21</td>\n",
              "      <td>14</td>\n",
              "      <td>12</td>\n",
              "      <td>1085</td>\n",
              "      <td>29.3</td>\n",
              "      <td>12.8</td>\n",
              "      <td>5.8</td>\n",
              "      <td>1.8</td>\n",
              "      <td>1.4</td>\n",
              "      <td>0.4</td>\n",
              "      <td>2022-04-28</td>\n",
              "      <td>14190000</td>\n",
              "    </tr>\n",
              "    <tr>\n",
              "      <th>443</th>\n",
              "      <td>Trae Young</td>\n",
              "      <td>Hawks</td>\n",
              "      <td>Guard</td>\n",
              "      <td>185</td>\n",
              "      <td>74</td>\n",
              "      <td>USA</td>\n",
              "      <td>1998-09-19</td>\n",
              "      <td>3</td>\n",
              "      <td>5</td>\n",
              "      <td>280</td>\n",
              "      <td>33.6</td>\n",
              "      <td>25.3</td>\n",
              "      <td>3.9</td>\n",
              "      <td>9.1</td>\n",
              "      <td>0.9</td>\n",
              "      <td>0.2</td>\n",
              "      <td>2022-04-26</td>\n",
              "      <td>8326471</td>\n",
              "    </tr>\n",
              "    <tr>\n",
              "      <th>444</th>\n",
              "      <td>Omer Yurtseven</td>\n",
              "      <td>Heat</td>\n",
              "      <td>Center</td>\n",
              "      <td>211</td>\n",
              "      <td>124</td>\n",
              "      <td>Turkey</td>\n",
              "      <td>1998-06-19</td>\n",
              "      <td>0</td>\n",
              "      <td>Undrafted</td>\n",
              "      <td>56</td>\n",
              "      <td>12.6</td>\n",
              "      <td>5.3</td>\n",
              "      <td>5.3</td>\n",
              "      <td>0.9</td>\n",
              "      <td>0.3</td>\n",
              "      <td>0.4</td>\n",
              "      <td>2022-04-26</td>\n",
              "      <td>1489065</td>\n",
              "    </tr>\n",
              "    <tr>\n",
              "      <th>445</th>\n",
              "      <td>Ivica Zubac</td>\n",
              "      <td>Clippers</td>\n",
              "      <td>Center</td>\n",
              "      <td>213</td>\n",
              "      <td>108</td>\n",
              "      <td>Croatia</td>\n",
              "      <td>1997-03-18</td>\n",
              "      <td>5</td>\n",
              "      <td>32</td>\n",
              "      <td>360</td>\n",
              "      <td>19.0</td>\n",
              "      <td>8.3</td>\n",
              "      <td>6.5</td>\n",
              "      <td>1.1</td>\n",
              "      <td>0.3</td>\n",
              "      <td>0.8</td>\n",
              "      <td>NaT</td>\n",
              "      <td>7518518</td>\n",
              "    </tr>\n",
              "  </tbody>\n",
              "</table>\n",
              "<p>446 rows × 18 columns</p>\n",
              "</div>\n",
              "      <button class=\"colab-df-convert\" onclick=\"convertToInteractive('df-da36b180-7346-4417-8e53-fd6db569217a')\"\n",
              "              title=\"Convert this dataframe to an interactive table.\"\n",
              "              style=\"display:none;\">\n",
              "        \n",
              "  <svg xmlns=\"http://www.w3.org/2000/svg\" height=\"24px\"viewBox=\"0 0 24 24\"\n",
              "       width=\"24px\">\n",
              "    <path d=\"M0 0h24v24H0V0z\" fill=\"none\"/>\n",
              "    <path d=\"M18.56 5.44l.94 2.06.94-2.06 2.06-.94-2.06-.94-.94-2.06-.94 2.06-2.06.94zm-11 1L8.5 8.5l.94-2.06 2.06-.94-2.06-.94L8.5 2.5l-.94 2.06-2.06.94zm10 10l.94 2.06.94-2.06 2.06-.94-2.06-.94-.94-2.06-.94 2.06-2.06.94z\"/><path d=\"M17.41 7.96l-1.37-1.37c-.4-.4-.92-.59-1.43-.59-.52 0-1.04.2-1.43.59L10.3 9.45l-7.72 7.72c-.78.78-.78 2.05 0 2.83L4 21.41c.39.39.9.59 1.41.59.51 0 1.02-.2 1.41-.59l7.78-7.78 2.81-2.81c.8-.78.8-2.07 0-2.86zM5.41 20L4 18.59l7.72-7.72 1.47 1.35L5.41 20z\"/>\n",
              "  </svg>\n",
              "      </button>\n",
              "      \n",
              "  <style>\n",
              "    .colab-df-container {\n",
              "      display:flex;\n",
              "      flex-wrap:wrap;\n",
              "      gap: 12px;\n",
              "    }\n",
              "\n",
              "    .colab-df-convert {\n",
              "      background-color: #E8F0FE;\n",
              "      border: none;\n",
              "      border-radius: 50%;\n",
              "      cursor: pointer;\n",
              "      display: none;\n",
              "      fill: #1967D2;\n",
              "      height: 32px;\n",
              "      padding: 0 0 0 0;\n",
              "      width: 32px;\n",
              "    }\n",
              "\n",
              "    .colab-df-convert:hover {\n",
              "      background-color: #E2EBFA;\n",
              "      box-shadow: 0px 1px 2px rgba(60, 64, 67, 0.3), 0px 1px 3px 1px rgba(60, 64, 67, 0.15);\n",
              "      fill: #174EA6;\n",
              "    }\n",
              "\n",
              "    [theme=dark] .colab-df-convert {\n",
              "      background-color: #3B4455;\n",
              "      fill: #D2E3FC;\n",
              "    }\n",
              "\n",
              "    [theme=dark] .colab-df-convert:hover {\n",
              "      background-color: #434B5C;\n",
              "      box-shadow: 0px 1px 3px 1px rgba(0, 0, 0, 0.15);\n",
              "      filter: drop-shadow(0px 1px 2px rgba(0, 0, 0, 0.3));\n",
              "      fill: #FFFFFF;\n",
              "    }\n",
              "  </style>\n",
              "\n",
              "      <script>\n",
              "        const buttonEl =\n",
              "          document.querySelector('#df-da36b180-7346-4417-8e53-fd6db569217a button.colab-df-convert');\n",
              "        buttonEl.style.display =\n",
              "          google.colab.kernel.accessAllowed ? 'block' : 'none';\n",
              "\n",
              "        async function convertToInteractive(key) {\n",
              "          const element = document.querySelector('#df-da36b180-7346-4417-8e53-fd6db569217a');\n",
              "          const dataTable =\n",
              "            await google.colab.kernel.invokeFunction('convertToInteractive',\n",
              "                                                     [key], {});\n",
              "          if (!dataTable) return;\n",
              "\n",
              "          const docLinkHtml = 'Like what you see? Visit the ' +\n",
              "            '<a target=\"_blank\" href=https://colab.research.google.com/notebooks/data_table.ipynb>data table notebook</a>'\n",
              "            + ' to learn more about interactive tables.';\n",
              "          element.innerHTML = '';\n",
              "          dataTable['output_type'] = 'display_data';\n",
              "          await google.colab.output.renderOutput(dataTable, element);\n",
              "          const docLink = document.createElement('div');\n",
              "          docLink.innerHTML = docLinkHtml;\n",
              "          element.appendChild(docLink);\n",
              "        }\n",
              "      </script>\n",
              "    </div>\n",
              "  </div>\n",
              "  "
            ]
          },
          "metadata": {},
          "execution_count": 133
        }
      ]
    },
    {
      "cell_type": "markdown",
      "metadata": {
        "id": "0d94c670-4e24-479a-aed1-c72a1082b452"
      },
      "source": [
        "5- Create a function that calculates the age in (years, months, days) and saves it in a new string column, example: \"22 years, 5 months, 25 days\" "
      ],
      "id": "0d94c670-4e24-479a-aed1-c72a1082b452"
    },
    {
      "cell_type": "code",
      "execution_count": null,
      "metadata": {
        "id": "1f7ec1c5-2820-4660-8c93-1a2ad44e3bb0"
      },
      "outputs": [],
      "source": [
        "def add_age_column(working_df):\n",
        "  def age(birthdate):\n",
        "    today = date.today()\n",
        "    years = str(today.year - birthdate.year - ((today.month, today.day) < (birthdate.month, birthdate.day)))\n",
        "    months = str(abs(today.month-birthdate.month))\n",
        "    days = str(abs(today.day-birthdate.day))\n",
        "    age = years + \" years, \" + months + \" months, \" + days + \" days\"\n",
        "    return age\n",
        "  ages = []\n",
        "  for f in working_df.BIRTHDATE.index:\n",
        "    ages.append(age(working_df.BIRTHDATE[f]))\n",
        "  working_df[\"AGE\"] = ages\n",
        "  return\n"
      ],
      "id": "1f7ec1c5-2820-4660-8c93-1a2ad44e3bb0"
    },
    {
      "cell_type": "code",
      "execution_count": null,
      "metadata": {
        "id": "7796ed0f-4711-442b-865e-d8b09be3e227"
      },
      "outputs": [],
      "source": [
        "add_age_column(working_df)"
      ],
      "id": "7796ed0f-4711-442b-865e-d8b09be3e227"
    },
    {
      "cell_type": "markdown",
      "metadata": {
        "id": "25b55463-d16e-4635-a951-caaeb5a6795b"
      },
      "source": [
        "6- Create a function that takes care of the disambiguation of the \"POSITION\" column. Should replace all positions that are mixed with the first one listed."
      ],
      "id": "25b55463-d16e-4635-a951-caaeb5a6795b"
    },
    {
      "cell_type": "code",
      "source": [
        "def update_position(working_df):\n",
        "    split_aux = working_df['POSITION'].str.split('-', expand=True)\n",
        "    split_aux = split_aux.iloc[:,0]\n",
        "    working_df['POSITION'] = split_aux\n",
        "    return working_df"
      ],
      "metadata": {
        "id": "JIJ95yJSIvkV"
      },
      "id": "JIJ95yJSIvkV",
      "execution_count": null,
      "outputs": []
    },
    {
      "cell_type": "code",
      "execution_count": null,
      "metadata": {
        "id": "6bdc5317-86cd-48ad-96ca-945f8f493bef",
        "colab": {
          "base_uri": "https://localhost:8080/",
          "height": 1000
        },
        "outputId": "0924b377-94ca-4ee7-9bf9-ef5cd85a9069"
      },
      "outputs": [
        {
          "output_type": "execute_result",
          "data": {
            "text/plain": [
              "           PLAYER_NAME  TEAM_NAME POSITION  HEIGHT  WEIGHT      COUNTRY  \\\n",
              "0     Precious Achiuwa    Raptors  Forward     203     102      Nigeria   \n",
              "1         Steven Adams  Grizzlies   Center     211     120  New Zealand   \n",
              "2          Bam Adebayo       Heat   Center     206     115          USA   \n",
              "3         Santi Aldama  Grizzlies  Forward     211      97        Spain   \n",
              "4    LaMarcus Aldridge       Nets   Center     211     113          USA   \n",
              "..                 ...        ...      ...     ...     ...          ...   \n",
              "441       Delon Wright      Hawks    Guard     196      83          USA   \n",
              "442     Thaddeus Young    Raptors  Forward     203     106          USA   \n",
              "443         Trae Young      Hawks    Guard     185      74          USA   \n",
              "444     Omer Yurtseven       Heat   Center     211     124       Turkey   \n",
              "445        Ivica Zubac   Clippers   Center     213     108      Croatia   \n",
              "\n",
              "     BIRTHDATE  SEASON_EXP DRAFT_NUMBER    GP   MIN   PTS  REB  AST  STL  BLK  \\\n",
              "0   1999-09-19           1           20   134  18.4   7.2  5.1  0.8  0.4  0.5   \n",
              "1   1993-07-20           8           12   664  26.8   9.3  8.0  1.5  0.9  0.9   \n",
              "2   1997-07-18           4           14   343  28.2  13.5  8.3  3.5  1.0  0.9   \n",
              "3   2001-01-10           0           30    32  11.2   4.1  2.7  0.7  0.2  0.3   \n",
              "4   1985-07-19          15            2  1076  33.7  19.1  8.1  1.9  0.7  1.1   \n",
              "..         ...         ...          ...   ...   ...   ...  ...  ...  ...  ...   \n",
              "441 1992-04-26           6           20   411  20.9   7.2  3.2  3.0  1.2  0.4   \n",
              "442 1988-06-21          14           12  1085  29.3  12.8  5.8  1.8  1.4  0.4   \n",
              "443 1998-09-19           3            5   280  33.6  25.3  3.9  9.1  0.9  0.2   \n",
              "444 1998-06-19           0    Undrafted    56  12.6   5.3  5.3  0.9  0.3  0.4   \n",
              "445 1997-03-18           5           32   360  19.0   8.3  6.5  1.1  0.3  0.8   \n",
              "\n",
              "     GAME_DATE    SALARY                          AGE  \n",
              "0   2022-04-28   2711280   22 years, 5 months, 7 days  \n",
              "1   2022-04-26  17073171   28 years, 3 months, 6 days  \n",
              "2   2022-04-26  28103550   24 years, 3 months, 8 days  \n",
              "3   2022-04-26   1994520  21 years, 3 months, 16 days  \n",
              "4   2022-04-27   2641691   36 years, 3 months, 7 days  \n",
              "..         ...       ...                          ...  \n",
              "441 2022-04-26   8526316   30 years, 0 months, 0 days  \n",
              "442 2022-04-28  14190000   33 years, 2 months, 5 days  \n",
              "443 2022-04-26   8326471   23 years, 5 months, 7 days  \n",
              "444 2022-04-26   1489065   23 years, 2 months, 7 days  \n",
              "445        NaT   7518518   25 years, 1 months, 8 days  \n",
              "\n",
              "[446 rows x 19 columns]"
            ],
            "text/html": [
              "\n",
              "  <div id=\"df-d15b0162-a88f-402f-acf0-110ad1f91d45\">\n",
              "    <div class=\"colab-df-container\">\n",
              "      <div>\n",
              "<style scoped>\n",
              "    .dataframe tbody tr th:only-of-type {\n",
              "        vertical-align: middle;\n",
              "    }\n",
              "\n",
              "    .dataframe tbody tr th {\n",
              "        vertical-align: top;\n",
              "    }\n",
              "\n",
              "    .dataframe thead th {\n",
              "        text-align: right;\n",
              "    }\n",
              "</style>\n",
              "<table border=\"1\" class=\"dataframe\">\n",
              "  <thead>\n",
              "    <tr style=\"text-align: right;\">\n",
              "      <th></th>\n",
              "      <th>PLAYER_NAME</th>\n",
              "      <th>TEAM_NAME</th>\n",
              "      <th>POSITION</th>\n",
              "      <th>HEIGHT</th>\n",
              "      <th>WEIGHT</th>\n",
              "      <th>COUNTRY</th>\n",
              "      <th>BIRTHDATE</th>\n",
              "      <th>SEASON_EXP</th>\n",
              "      <th>DRAFT_NUMBER</th>\n",
              "      <th>GP</th>\n",
              "      <th>MIN</th>\n",
              "      <th>PTS</th>\n",
              "      <th>REB</th>\n",
              "      <th>AST</th>\n",
              "      <th>STL</th>\n",
              "      <th>BLK</th>\n",
              "      <th>GAME_DATE</th>\n",
              "      <th>SALARY</th>\n",
              "      <th>AGE</th>\n",
              "    </tr>\n",
              "  </thead>\n",
              "  <tbody>\n",
              "    <tr>\n",
              "      <th>0</th>\n",
              "      <td>Precious Achiuwa</td>\n",
              "      <td>Raptors</td>\n",
              "      <td>Forward</td>\n",
              "      <td>203</td>\n",
              "      <td>102</td>\n",
              "      <td>Nigeria</td>\n",
              "      <td>1999-09-19</td>\n",
              "      <td>1</td>\n",
              "      <td>20</td>\n",
              "      <td>134</td>\n",
              "      <td>18.4</td>\n",
              "      <td>7.2</td>\n",
              "      <td>5.1</td>\n",
              "      <td>0.8</td>\n",
              "      <td>0.4</td>\n",
              "      <td>0.5</td>\n",
              "      <td>2022-04-28</td>\n",
              "      <td>2711280</td>\n",
              "      <td>22 years, 5 months, 7 days</td>\n",
              "    </tr>\n",
              "    <tr>\n",
              "      <th>1</th>\n",
              "      <td>Steven Adams</td>\n",
              "      <td>Grizzlies</td>\n",
              "      <td>Center</td>\n",
              "      <td>211</td>\n",
              "      <td>120</td>\n",
              "      <td>New Zealand</td>\n",
              "      <td>1993-07-20</td>\n",
              "      <td>8</td>\n",
              "      <td>12</td>\n",
              "      <td>664</td>\n",
              "      <td>26.8</td>\n",
              "      <td>9.3</td>\n",
              "      <td>8.0</td>\n",
              "      <td>1.5</td>\n",
              "      <td>0.9</td>\n",
              "      <td>0.9</td>\n",
              "      <td>2022-04-26</td>\n",
              "      <td>17073171</td>\n",
              "      <td>28 years, 3 months, 6 days</td>\n",
              "    </tr>\n",
              "    <tr>\n",
              "      <th>2</th>\n",
              "      <td>Bam Adebayo</td>\n",
              "      <td>Heat</td>\n",
              "      <td>Center</td>\n",
              "      <td>206</td>\n",
              "      <td>115</td>\n",
              "      <td>USA</td>\n",
              "      <td>1997-07-18</td>\n",
              "      <td>4</td>\n",
              "      <td>14</td>\n",
              "      <td>343</td>\n",
              "      <td>28.2</td>\n",
              "      <td>13.5</td>\n",
              "      <td>8.3</td>\n",
              "      <td>3.5</td>\n",
              "      <td>1.0</td>\n",
              "      <td>0.9</td>\n",
              "      <td>2022-04-26</td>\n",
              "      <td>28103550</td>\n",
              "      <td>24 years, 3 months, 8 days</td>\n",
              "    </tr>\n",
              "    <tr>\n",
              "      <th>3</th>\n",
              "      <td>Santi Aldama</td>\n",
              "      <td>Grizzlies</td>\n",
              "      <td>Forward</td>\n",
              "      <td>211</td>\n",
              "      <td>97</td>\n",
              "      <td>Spain</td>\n",
              "      <td>2001-01-10</td>\n",
              "      <td>0</td>\n",
              "      <td>30</td>\n",
              "      <td>32</td>\n",
              "      <td>11.2</td>\n",
              "      <td>4.1</td>\n",
              "      <td>2.7</td>\n",
              "      <td>0.7</td>\n",
              "      <td>0.2</td>\n",
              "      <td>0.3</td>\n",
              "      <td>2022-04-26</td>\n",
              "      <td>1994520</td>\n",
              "      <td>21 years, 3 months, 16 days</td>\n",
              "    </tr>\n",
              "    <tr>\n",
              "      <th>4</th>\n",
              "      <td>LaMarcus Aldridge</td>\n",
              "      <td>Nets</td>\n",
              "      <td>Center</td>\n",
              "      <td>211</td>\n",
              "      <td>113</td>\n",
              "      <td>USA</td>\n",
              "      <td>1985-07-19</td>\n",
              "      <td>15</td>\n",
              "      <td>2</td>\n",
              "      <td>1076</td>\n",
              "      <td>33.7</td>\n",
              "      <td>19.1</td>\n",
              "      <td>8.1</td>\n",
              "      <td>1.9</td>\n",
              "      <td>0.7</td>\n",
              "      <td>1.1</td>\n",
              "      <td>2022-04-27</td>\n",
              "      <td>2641691</td>\n",
              "      <td>36 years, 3 months, 7 days</td>\n",
              "    </tr>\n",
              "    <tr>\n",
              "      <th>...</th>\n",
              "      <td>...</td>\n",
              "      <td>...</td>\n",
              "      <td>...</td>\n",
              "      <td>...</td>\n",
              "      <td>...</td>\n",
              "      <td>...</td>\n",
              "      <td>...</td>\n",
              "      <td>...</td>\n",
              "      <td>...</td>\n",
              "      <td>...</td>\n",
              "      <td>...</td>\n",
              "      <td>...</td>\n",
              "      <td>...</td>\n",
              "      <td>...</td>\n",
              "      <td>...</td>\n",
              "      <td>...</td>\n",
              "      <td>...</td>\n",
              "      <td>...</td>\n",
              "      <td>...</td>\n",
              "    </tr>\n",
              "    <tr>\n",
              "      <th>441</th>\n",
              "      <td>Delon Wright</td>\n",
              "      <td>Hawks</td>\n",
              "      <td>Guard</td>\n",
              "      <td>196</td>\n",
              "      <td>83</td>\n",
              "      <td>USA</td>\n",
              "      <td>1992-04-26</td>\n",
              "      <td>6</td>\n",
              "      <td>20</td>\n",
              "      <td>411</td>\n",
              "      <td>20.9</td>\n",
              "      <td>7.2</td>\n",
              "      <td>3.2</td>\n",
              "      <td>3.0</td>\n",
              "      <td>1.2</td>\n",
              "      <td>0.4</td>\n",
              "      <td>2022-04-26</td>\n",
              "      <td>8526316</td>\n",
              "      <td>30 years, 0 months, 0 days</td>\n",
              "    </tr>\n",
              "    <tr>\n",
              "      <th>442</th>\n",
              "      <td>Thaddeus Young</td>\n",
              "      <td>Raptors</td>\n",
              "      <td>Forward</td>\n",
              "      <td>203</td>\n",
              "      <td>106</td>\n",
              "      <td>USA</td>\n",
              "      <td>1988-06-21</td>\n",
              "      <td>14</td>\n",
              "      <td>12</td>\n",
              "      <td>1085</td>\n",
              "      <td>29.3</td>\n",
              "      <td>12.8</td>\n",
              "      <td>5.8</td>\n",
              "      <td>1.8</td>\n",
              "      <td>1.4</td>\n",
              "      <td>0.4</td>\n",
              "      <td>2022-04-28</td>\n",
              "      <td>14190000</td>\n",
              "      <td>33 years, 2 months, 5 days</td>\n",
              "    </tr>\n",
              "    <tr>\n",
              "      <th>443</th>\n",
              "      <td>Trae Young</td>\n",
              "      <td>Hawks</td>\n",
              "      <td>Guard</td>\n",
              "      <td>185</td>\n",
              "      <td>74</td>\n",
              "      <td>USA</td>\n",
              "      <td>1998-09-19</td>\n",
              "      <td>3</td>\n",
              "      <td>5</td>\n",
              "      <td>280</td>\n",
              "      <td>33.6</td>\n",
              "      <td>25.3</td>\n",
              "      <td>3.9</td>\n",
              "      <td>9.1</td>\n",
              "      <td>0.9</td>\n",
              "      <td>0.2</td>\n",
              "      <td>2022-04-26</td>\n",
              "      <td>8326471</td>\n",
              "      <td>23 years, 5 months, 7 days</td>\n",
              "    </tr>\n",
              "    <tr>\n",
              "      <th>444</th>\n",
              "      <td>Omer Yurtseven</td>\n",
              "      <td>Heat</td>\n",
              "      <td>Center</td>\n",
              "      <td>211</td>\n",
              "      <td>124</td>\n",
              "      <td>Turkey</td>\n",
              "      <td>1998-06-19</td>\n",
              "      <td>0</td>\n",
              "      <td>Undrafted</td>\n",
              "      <td>56</td>\n",
              "      <td>12.6</td>\n",
              "      <td>5.3</td>\n",
              "      <td>5.3</td>\n",
              "      <td>0.9</td>\n",
              "      <td>0.3</td>\n",
              "      <td>0.4</td>\n",
              "      <td>2022-04-26</td>\n",
              "      <td>1489065</td>\n",
              "      <td>23 years, 2 months, 7 days</td>\n",
              "    </tr>\n",
              "    <tr>\n",
              "      <th>445</th>\n",
              "      <td>Ivica Zubac</td>\n",
              "      <td>Clippers</td>\n",
              "      <td>Center</td>\n",
              "      <td>213</td>\n",
              "      <td>108</td>\n",
              "      <td>Croatia</td>\n",
              "      <td>1997-03-18</td>\n",
              "      <td>5</td>\n",
              "      <td>32</td>\n",
              "      <td>360</td>\n",
              "      <td>19.0</td>\n",
              "      <td>8.3</td>\n",
              "      <td>6.5</td>\n",
              "      <td>1.1</td>\n",
              "      <td>0.3</td>\n",
              "      <td>0.8</td>\n",
              "      <td>NaT</td>\n",
              "      <td>7518518</td>\n",
              "      <td>25 years, 1 months, 8 days</td>\n",
              "    </tr>\n",
              "  </tbody>\n",
              "</table>\n",
              "<p>446 rows × 19 columns</p>\n",
              "</div>\n",
              "      <button class=\"colab-df-convert\" onclick=\"convertToInteractive('df-d15b0162-a88f-402f-acf0-110ad1f91d45')\"\n",
              "              title=\"Convert this dataframe to an interactive table.\"\n",
              "              style=\"display:none;\">\n",
              "        \n",
              "  <svg xmlns=\"http://www.w3.org/2000/svg\" height=\"24px\"viewBox=\"0 0 24 24\"\n",
              "       width=\"24px\">\n",
              "    <path d=\"M0 0h24v24H0V0z\" fill=\"none\"/>\n",
              "    <path d=\"M18.56 5.44l.94 2.06.94-2.06 2.06-.94-2.06-.94-.94-2.06-.94 2.06-2.06.94zm-11 1L8.5 8.5l.94-2.06 2.06-.94-2.06-.94L8.5 2.5l-.94 2.06-2.06.94zm10 10l.94 2.06.94-2.06 2.06-.94-2.06-.94-.94-2.06-.94 2.06-2.06.94z\"/><path d=\"M17.41 7.96l-1.37-1.37c-.4-.4-.92-.59-1.43-.59-.52 0-1.04.2-1.43.59L10.3 9.45l-7.72 7.72c-.78.78-.78 2.05 0 2.83L4 21.41c.39.39.9.59 1.41.59.51 0 1.02-.2 1.41-.59l7.78-7.78 2.81-2.81c.8-.78.8-2.07 0-2.86zM5.41 20L4 18.59l7.72-7.72 1.47 1.35L5.41 20z\"/>\n",
              "  </svg>\n",
              "      </button>\n",
              "      \n",
              "  <style>\n",
              "    .colab-df-container {\n",
              "      display:flex;\n",
              "      flex-wrap:wrap;\n",
              "      gap: 12px;\n",
              "    }\n",
              "\n",
              "    .colab-df-convert {\n",
              "      background-color: #E8F0FE;\n",
              "      border: none;\n",
              "      border-radius: 50%;\n",
              "      cursor: pointer;\n",
              "      display: none;\n",
              "      fill: #1967D2;\n",
              "      height: 32px;\n",
              "      padding: 0 0 0 0;\n",
              "      width: 32px;\n",
              "    }\n",
              "\n",
              "    .colab-df-convert:hover {\n",
              "      background-color: #E2EBFA;\n",
              "      box-shadow: 0px 1px 2px rgba(60, 64, 67, 0.3), 0px 1px 3px 1px rgba(60, 64, 67, 0.15);\n",
              "      fill: #174EA6;\n",
              "    }\n",
              "\n",
              "    [theme=dark] .colab-df-convert {\n",
              "      background-color: #3B4455;\n",
              "      fill: #D2E3FC;\n",
              "    }\n",
              "\n",
              "    [theme=dark] .colab-df-convert:hover {\n",
              "      background-color: #434B5C;\n",
              "      box-shadow: 0px 1px 3px 1px rgba(0, 0, 0, 0.15);\n",
              "      filter: drop-shadow(0px 1px 2px rgba(0, 0, 0, 0.3));\n",
              "      fill: #FFFFFF;\n",
              "    }\n",
              "  </style>\n",
              "\n",
              "      <script>\n",
              "        const buttonEl =\n",
              "          document.querySelector('#df-d15b0162-a88f-402f-acf0-110ad1f91d45 button.colab-df-convert');\n",
              "        buttonEl.style.display =\n",
              "          google.colab.kernel.accessAllowed ? 'block' : 'none';\n",
              "\n",
              "        async function convertToInteractive(key) {\n",
              "          const element = document.querySelector('#df-d15b0162-a88f-402f-acf0-110ad1f91d45');\n",
              "          const dataTable =\n",
              "            await google.colab.kernel.invokeFunction('convertToInteractive',\n",
              "                                                     [key], {});\n",
              "          if (!dataTable) return;\n",
              "\n",
              "          const docLinkHtml = 'Like what you see? Visit the ' +\n",
              "            '<a target=\"_blank\" href=https://colab.research.google.com/notebooks/data_table.ipynb>data table notebook</a>'\n",
              "            + ' to learn more about interactive tables.';\n",
              "          element.innerHTML = '';\n",
              "          dataTable['output_type'] = 'display_data';\n",
              "          await google.colab.output.renderOutput(dataTable, element);\n",
              "          const docLink = document.createElement('div');\n",
              "          docLink.innerHTML = docLinkHtml;\n",
              "          element.appendChild(docLink);\n",
              "        }\n",
              "      </script>\n",
              "    </div>\n",
              "  </div>\n",
              "  "
            ]
          },
          "metadata": {},
          "execution_count": 139
        }
      ],
      "source": [
        "update_position(working_df)"
      ],
      "id": "6bdc5317-86cd-48ad-96ca-945f8f493bef"
    },
    {
      "cell_type": "markdown",
      "metadata": {
        "id": "0cad9445-eee0-4fdf-b745-a0aac7138c87"
      },
      "source": [
        "7- Review that the working dataset has all requested columns with its corresponding datatypes and save it as a csv with name \"nba_players_processed_dataset.csv\""
      ],
      "id": "0cad9445-eee0-4fdf-b745-a0aac7138c87"
    },
    {
      "cell_type": "code",
      "source": [
        "working_df.replace({\"Undrafted\":np.nan}, inplace=True)\n",
        "working_df['DRAFT_NUMBER'] = working_df['DRAFT_NUMBER'].str.extract('(\\d+)', expand=False).astype('float').astype('Int64')"
      ],
      "metadata": {
        "id": "8-GUoHDFg6Lt"
      },
      "id": "8-GUoHDFg6Lt",
      "execution_count": null,
      "outputs": []
    },
    {
      "cell_type": "code",
      "execution_count": null,
      "metadata": {
        "id": "7b423e20-c9f6-449a-8d8a-497bd464811d"
      },
      "outputs": [],
      "source": [
        "working_df.to_csv(\"nba_players_processed_dataset.csv\")\n"
      ],
      "id": "7b423e20-c9f6-449a-8d8a-497bd464811d"
    },
    {
      "cell_type": "markdown",
      "metadata": {
        "id": "6e794f61-3cc8-4899-a999-858a3cf0b959"
      },
      "source": [
        "## Analyzing and Visualizing data"
      ],
      "id": "6e794f61-3cc8-4899-a999-858a3cf0b959"
    },
    {
      "cell_type": "markdown",
      "metadata": {
        "id": "754b6690-e0c7-42ce-ac4a-45d000a5d9a8"
      },
      "source": [
        "Now that we have the data, let's do some work"
      ],
      "id": "754b6690-e0c7-42ce-ac4a-45d000a5d9a8"
    },
    {
      "cell_type": "markdown",
      "metadata": {
        "id": "b3f4a2fc-1f4f-4a18-ad43-fb125317395b"
      },
      "source": [
        "1- Calculate and print the following metrics:\n",
        "\n",
        "    - General metrics:\n",
        "        - Total number of players\n",
        "        - Number of USA born players\n",
        "        - Number of foreign players\n",
        "        - Number of players per position\n",
        "        - Number of players per team\n",
        "        - Number of rookies (first year players)\n",
        "    - Players description\n",
        "        - Average player age (in years)\n",
        "        - Youngest player age (years and days, i.e: 18 years and 16 days)\n",
        "        - Oldest player age (years and days, i.e: 40 years and 160 days)\n",
        "        - Min and Max players height\n",
        "        - Average height of players per position\n",
        "    - Contracts\n",
        "        - Min and Max salary of all players\n",
        "        - Mean and Median salary of all players\n",
        "\n",
        "Bonus: if you can, calculate how many players retired between the end of the 2020-2021 season and the start of the 2021-22 season."
      ],
      "id": "b3f4a2fc-1f4f-4a18-ad43-fb125317395b"
    },
    {
      "cell_type": "code",
      "execution_count": null,
      "metadata": {
        "id": "b5f62de4-8ddb-4377-a87c-a3cc655b6321",
        "colab": {
          "base_uri": "https://localhost:8080/"
        },
        "outputId": "1e6cc756-e136-49fc-e3b2-7327d89ffd0f"
      },
      "outputs": [
        {
          "output_type": "stream",
          "name": "stdout",
          "text": [
            "Total number of players 446\n",
            "Number of USA born players 338\n",
            "Number of foreign players 108\n",
            "Number of rookies (first year players) 117\n",
            "Number of players per position for center 59\n",
            "Number of players per position for forwar 175\n",
            "Number of players per position for guard 212\n",
            "Count 15 in team 76ers\n",
            "Count 14 in team Bucks\n",
            "Count 16 in team Bulls\n",
            "Count 16 in team Cavaliers\n",
            "Count 14 in team Celtics\n",
            "Count 13 in team Clippers\n",
            "Count 15 in team Grizzlies\n",
            "Count 14 in team Hawks\n",
            "Count 15 in team Heat\n",
            "Count 15 in team Hornets\n",
            "Count 15 in team Jazz\n",
            "Count 15 in team Kings\n",
            "Count 14 in team Knicks\n",
            "Count 15 in team Lakers\n",
            "Count 15 in team Magic\n",
            "Count 15 in team Mavericks\n",
            "Count 15 in team Nets\n",
            "Count 14 in team Nuggets\n",
            "Count 15 in team Pacers\n",
            "Count 16 in team Pelicans\n",
            "Count 14 in team Pistons\n",
            "Count 15 in team Raptors\n",
            "Count 15 in team Rockets\n",
            "Count 16 in team Spurs\n",
            "Count 15 in team Suns\n",
            "Count 15 in team Thunder\n",
            "Count 15 in team Timberwolves\n",
            "Count 15 in team Trail Blazers\n",
            "Count 15 in team Warriors\n",
            "Count 15 in team Wizards\n"
          ]
        }
      ],
      "source": [
        "total_player = len(working_df)\n",
        "print(\"Total number of players\",total_player)\n",
        "\n",
        "usa_player = len(working_df.loc[working_df.COUNTRY==\"USA\"])\n",
        "print(\"Number of USA born players\",usa_player)\n",
        "\n",
        "foreign_pla = total_player - usa_player\n",
        "print(\"Number of foreign players\", foreign_pla)\n",
        "\n",
        "rokies_player = len(working_df.loc[working_df.SEASON_EXP <=1])\n",
        "print(\"Number of rookies (first year players)\",rokies_player)\n",
        "\n",
        "all_p_center = len(working_df.loc[working_df.POSITION == \"Center\"])\n",
        "all_p_guard = len(working_df.loc[working_df.POSITION == \"Guard\"])\n",
        "all_p_forwar = len(working_df.loc[working_df.POSITION == \"Forward\"])\n",
        "\n",
        "print(\"Number of players per position for center\", all_p_center)\n",
        "\n",
        "print(\"Number of players per position for forwar\", all_p_forwar)\n",
        "\n",
        "print(\"Number of players per position for guard\", all_p_guard)\n",
        "\n",
        "for team in sorted(working_df.TEAM_NAME.unique()):\n",
        "  num = len(working_df.loc[working_df.TEAM_NAME == team])\n",
        "  print(\"Count\", num, \"in team\", team)\n"
      ],
      "id": "b5f62de4-8ddb-4377-a87c-a3cc655b6321"
    },
    {
      "cell_type": "code",
      "execution_count": null,
      "metadata": {
        "id": "660fe44e-b928-4097-999a-2b8f269fa32d",
        "colab": {
          "base_uri": "https://localhost:8080/"
        },
        "outputId": "83d5925e-6ca2-4757-c4bf-105a0dc53d7e"
      },
      "outputs": [
        {
          "output_type": "stream",
          "name": "stdout",
          "text": [
            "Average player age (in years): 26\n",
            "old player age 41 years, 2 months, 17 days\n",
            "Youngest player age 19 years, 8 months, 2 days\n",
            "Min players height 175\n",
            "Max players height 221\n",
            "Average height of players per Center 211\n",
            "Average height of players per Forward 203\n",
            "Average height of players per Guard 192\n"
          ]
        }
      ],
      "source": [
        "avg = int(np.mean(working_df.AGE.str[:2].astype(int)))\n",
        "print(\"Average player age (in years):\", avg)\n",
        "\n",
        "birthdate = working_df.loc[working_df.BIRTHDATE == min(working_df.BIRTHDATE)].AGE.values[0]\n",
        "print(\"old player age\",birthdate)\n",
        "\n",
        "birthdate_max = working_df.loc[working_df.BIRTHDATE == max(working_df.BIRTHDATE)].AGE.values[0]\n",
        "print(\"Youngest player age\",birthdate_max)\n",
        "\n",
        "min_hight = min(working_df[\"HEIGHT\"])\n",
        "print(\"Min players height\",min_hight)\n",
        "\n",
        "max_hight = max(working_df[\"HEIGHT\"])\n",
        "print(\"Max players height\",max_hight)\n",
        "\n",
        "\n",
        "\n",
        "avg_height = int(round(np.mean(working_df.loc[working_df.POSITION==\"Center\"].HEIGHT),0))\n",
        "print(\"Average height of players per Center\", avg_height)\n",
        "\n",
        "avg_height = int(round(np.mean(working_df.loc[working_df.POSITION==\"Forward\"].HEIGHT),0))\n",
        "print(\"Average height of players per Forward\", avg_height)\n",
        "\n",
        "avg_height = int(round(np.mean(working_df.loc[working_df.POSITION==\"Guard\"].HEIGHT),0))\n",
        "print(\"Average height of players per Guard\", avg_height)"
      ],
      "id": "660fe44e-b928-4097-999a-2b8f269fa32d"
    },
    {
      "cell_type": "code",
      "execution_count": null,
      "metadata": {
        "id": "42c6c5e5-e800-479b-b575-12a578e53400",
        "colab": {
          "base_uri": "https://localhost:8080/"
        },
        "outputId": "484dfb6d-24fc-4bd7-939e-4a1c52b382df"
      },
      "outputs": [
        {
          "output_type": "stream",
          "name": "stdout",
          "text": [
            "The min salary of all players is: 5318\n",
            "The max salary of all players is: 45780966\n",
            "The mean salary of all players is: 8728325.706278026\n",
            "The median salary of all players is: 4405080.0\n"
          ]
        }
      ],
      "source": [
        "max_salary = max(working_df[\"SALARY\"])\n",
        "\n",
        "min_salary = min(working_df[\"SALARY\"])\n",
        "\n",
        "mean = np.mean(working_df[\"SALARY\"])\n",
        "\n",
        "median = np.median(working_df[\"SALARY\"])\n",
        "\n",
        "print(\"The min salary of all players is:\", min_salary)\n",
        "print(\"The max salary of all players is:\", max_salary)\n",
        "print(\"The mean salary of all players is:\", mean)\n",
        "print(\"The median salary of all players is:\", median)\n",
        "\n"
      ],
      "id": "42c6c5e5-e800-479b-b575-12a578e53400"
    },
    {
      "cell_type": "markdown",
      "metadata": {
        "id": "3a146e0c-ce0d-4e0c-971e-5b21e13fa077"
      },
      "source": [
        "2- Plot the relationship between scoring (points per game) and salary of all players, the players positions should also be visible."
      ],
      "id": "3a146e0c-ce0d-4e0c-971e-5b21e13fa077"
    },
    {
      "cell_type": "code",
      "execution_count": null,
      "metadata": {
        "id": "da36f3c1-0e69-47fd-a39c-67ce53f72851",
        "colab": {
          "base_uri": "https://localhost:8080/",
          "height": 386
        },
        "outputId": "2164f02b-f6b2-4fef-c0ea-965bdce51db5"
      },
      "outputs": [
        {
          "output_type": "execute_result",
          "data": {
            "text/plain": [
              "<seaborn.axisgrid.FacetGrid at 0x7f76320ca850>"
            ]
          },
          "metadata": {},
          "execution_count": 145
        },
        {
          "output_type": "display_data",
          "data": {
            "text/plain": [
              "<Figure size 436.125x360 with 1 Axes>"
            ],
            "image/png": "[encoded data removed]"
          },
          "metadata": {
            "needs_background": "light"
          }
        }
      ],
      "source": [
        "import matplotlib.pyplot as plt\n",
        "import seaborn as sns\n",
        "\n",
        "from matplotlib import pyplot as plt \n",
        "\n",
        "\n",
        "sns.lmplot(data=working_df, x=\"PTS\", y=\"SALARY\", hue =\"POSITION\")"
      ],
      "id": "da36f3c1-0e69-47fd-a39c-67ce53f72851"
    },
    {
      "cell_type": "markdown",
      "metadata": {
        "id": "0e188438-5ea0-4299-9597-3e038661710f"
      },
      "source": [
        "3- Now plot assists-vs-salary and rebounding-vs-salary"
      ],
      "id": "0e188438-5ea0-4299-9597-3e038661710f"
    },
    {
      "cell_type": "code",
      "execution_count": null,
      "metadata": {
        "id": "47fe0a50-996c-46a3-bd3c-f3863d4bc176",
        "colab": {
          "base_uri": "https://localhost:8080/",
          "height": 738
        },
        "outputId": "58aeddaf-b639-4e51-f106-f7a1689eacc5"
      },
      "outputs": [
        {
          "output_type": "execute_result",
          "data": {
            "text/plain": [
              "<seaborn.axisgrid.FacetGrid at 0x7f761e501250>"
            ]
          },
          "metadata": {},
          "execution_count": 152
        },
        {
          "output_type": "display_data",
          "data": {
            "text/plain": [
              "<Figure size 436.125x360 with 1 Axes>"
            ],
            "image/png": "[encoded data removed]"
          },
          "metadata": {
            "needs_background": "light"
          }
        },
        {
          "output_type": "display_data",
          "data": {
            "text/plain": [
              "<Figure size 436.125x360 with 1 Axes>"
            ],
            "image/png": "[encoded data removed]"
          },
          "metadata": {
            "needs_background": "light"
          }
        }
      ],
      "source": [
        "sns.lmplot(x=\"AST\", y=\"SALARY\", hue=\"POSITION\", data=data)\n",
        "sns.lmplot(x=\"REB\", y=\"SALARY\", hue=\"POSITION\", data=data)"
      ],
      "id": "47fe0a50-996c-46a3-bd3c-f3863d4bc176"
    },
    {
      "cell_type": "markdown",
      "metadata": {
        "id": "6d33d74b-dbc1-4d7d-93ab-72d0f12de486"
      },
      "source": [
        "4- When NBA players enter the league, they have low value salaries during what is called their \"rookie contract\". This means that it doesn't matter how well the player performs, they can't have large salaries. This can distort our understanding of how much teams value each skill, as a player could score 50 points a game and still earn just a couple of millions. So, lets now plot points, assists and rebounding vs salary, but only for players that have more than 4 years of experience (the typical length of a rookie contract)"
      ],
      "id": "6d33d74b-dbc1-4d7d-93ab-72d0f12de486"
    },
    {
      "cell_type": "code",
      "execution_count": null,
      "metadata": {
        "id": "761750a3-0349-4e3e-ad56-cbb829117565",
        "colab": {
          "base_uri": "https://localhost:8080/",
          "height": 1000
        },
        "outputId": "5c21b433-59df-48f3-e38c-fbbd621121e9"
      },
      "outputs": [
        {
          "output_type": "display_data",
          "data": {
            "text/plain": [
              "<Figure size 436.125x360 with 1 Axes>"
            ],
            "image/png": "[encoded data removed]"
          },
          "metadata": {
            "needs_background": "light"
          }
        },
        {
          "output_type": "display_data",
          "data": {
            "text/plain": [
              "<Figure size 436.125x360 with 1 Axes>"
            ],
            "image/png": "[encoded data removed]"
          },
          "metadata": {
            "needs_background": "light"
          }
        },
        {
          "output_type": "display_data",
          "data": {
            "text/plain": [
              "<Figure size 436.125x360 with 1 Axes>"
            ],
            "image/png": "[encoded data removed]"
          },
          "metadata": {
            "needs_background": "light"
          }
        }
      ],
      "source": [
        "filters = (working_df.SEASON_EXP >= 5)\n",
        "data = working_df[filters]\n",
        "a1 = sns.lmplot(x=\"PTS\", y=\"SALARY\", hue=\"POSITION\", data=data)\n",
        "a2 = sns.lmplot(x=\"AST\", y=\"SALARY\", hue=\"POSITION\", data=data)\n",
        "a3 = sns.lmplot(x=\"REB\", y=\"SALARY\", hue=\"POSITION\", data=data)\n",
        "\n"
      ],
      "id": "761750a3-0349-4e3e-ad56-cbb829117565"
    },
    {
      "cell_type": "markdown",
      "metadata": {
        "id": "e52dcf3d-a009-47c4-b4a3-a5cb94e66b2e"
      },
      "source": [
        "5- Plot the scoring average grouped by position, we want to be able to see median, quartiles, etc "
      ],
      "id": "e52dcf3d-a009-47c4-b4a3-a5cb94e66b2e"
    },
    {
      "cell_type": "code",
      "execution_count": null,
      "metadata": {
        "id": "e85a80b1-1e1c-4b97-881b-41caa3473436",
        "colab": {
          "base_uri": "https://localhost:8080/",
          "height": 280
        },
        "outputId": "9f60c6b4-30db-447f-96e2-c731c56160a1"
      },
      "outputs": [
        {
          "output_type": "stream",
          "name": "stderr",
          "text": [
            "/usr/local/lib/python3.7/dist-packages/seaborn/axisgrid.py:670: UserWarning: Using the boxplot function without specifying `order` is likely to produce an incorrect plot.\n",
            "  warnings.warn(warning)\n"
          ]
        },
        {
          "output_type": "display_data",
          "data": {
            "text/plain": [
              "<Figure size 648x216 with 3 Axes>"
            ],
            "image/png": "[encoded data removed]"
          },
          "metadata": {
            "needs_background": "light"
          }
        }
      ],
      "source": [
        "a = sns.FacetGrid(data=working_df, col='POSITION')\n",
        "a.map(sns.boxplot, 'PTS')\n",
        "plt.show()\n"
      ],
      "id": "e85a80b1-1e1c-4b97-881b-41caa3473436"
    },
    {
      "cell_type": "markdown",
      "metadata": {
        "id": "2a669e88-8555-4e7c-aab7-83d3683dd26e"
      },
      "source": [
        "6- Plot the Height distribution of all players"
      ],
      "id": "2a669e88-8555-4e7c-aab7-83d3683dd26e"
    },
    {
      "cell_type": "code",
      "execution_count": null,
      "metadata": {
        "id": "648e15f1-d120-413e-b244-15c88fdc914f",
        "colab": {
          "base_uri": "https://localhost:8080/",
          "height": 296
        },
        "outputId": "ffe75d10-3f4f-439c-d759-69e7a5732108"
      },
      "outputs": [
        {
          "output_type": "execute_result",
          "data": {
            "text/plain": [
              "<matplotlib.axes._subplots.AxesSubplot at 0x7f76208e4910>"
            ]
          },
          "metadata": {},
          "execution_count": 151
        },
        {
          "output_type": "display_data",
          "data": {
            "text/plain": [
              "<Figure size 432x288 with 1 Axes>"
            ],
            "image/png": "[encoded data removed]"
          },
          "metadata": {
            "needs_background": "light"
          }
        }
      ],
      "source": [
        "sns.kdeplot(data=working_df[\"HEIGHT\"], shade=True)\n"
      ],
      "id": "648e15f1-d120-413e-b244-15c88fdc914f"
    }
  ],
  "metadata": {
    "colab": {
      "collapsed_sections": [],
      "name": "AnyoneAI_Sprint1_Project1.ipynb",
      "provenance": []
    },
    "kernelspec": {
      "display_name": "Python 3 (ipykernel)",
      "language": "python",
      "name": "python3"
    },
    "language_info": {
      "codemirror_mode": {
        "name": "ipython",
        "version": 3
      },
      "file_extension": ".py",
      "mimetype": "text/x-python",
      "name": "python",
      "nbconvert_exporter": "python",
      "pygments_lexer": "ipython3",
      "version": "3.8.9"
    }
  },
  "nbformat": 4,
  "nbformat_minor": 5
}
